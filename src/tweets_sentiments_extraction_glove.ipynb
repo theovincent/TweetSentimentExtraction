{
 "cells": [
  {
   "cell_type": "code",
   "execution_count": null,
   "metadata": {},
   "outputs": [],
   "source": [
    "from pathlib import Path\n",
    "import numpy as np\n",
    "import pandas as pd\n",
    "import matplotlib.pyplot as plt\n",
    "from nltk.tokenize import WordPunctTokenizer"
   ]
  },
  {
   "cell_type": "markdown",
   "metadata": {},
   "source": [
    "# Data base import"
   ]
  },
  {
   "cell_type": "code",
   "execution_count": null,
   "metadata": {},
   "outputs": [],
   "source": [
    "from utils import sample_data\n",
    "\n",
    "# -- Get the data -- #\n",
    "NB_SAMPLES = 10\n",
    "PATH_SAMPLE = Path(\"../data/samples/sample_{}_train.csv\".format(NB_SAMPLES))\n",
    "DATA_SAMPLE = pd.read_csv(PATH_SAMPLE)"
   ]
  },
  {
   "cell_type": "code",
   "execution_count": null,
   "metadata": {},
   "outputs": [],
   "source": [
    "print(DATA_SAMPLE)"
   ]
  },
  {
   "cell_type": "markdown",
   "metadata": {},
   "source": [
    "# Pre-processing"
   ]
  },
  {
   "cell_type": "code",
   "execution_count": null,
   "metadata": {},
   "outputs": [],
   "source": [
    "from descriptors.glove_descriptor.glove_descriptor import descriptor\n",
    "\n",
    "# -- Parameters -- #\n",
    "WORD_SIZE = 50  # 50 or 100 or 200 or 300\n",
    "SENTENCE_SIZE = 50  # What ever\n",
    "FILL_WITH = 0  # Should be an integer\n",
    "SPLIT_PUNCTUATION = False # to tell wheter the puncutation \"!?.;,/\" etc are keeped sticked to a word or not\n",
    "\n",
    "\n",
    "# -- Get the descriptor -- #\n",
    "PATH_DESCRIPTOR = Path(\"../data/glove_descriptor/glove.6B.{}d.txt\".format(WORD_SIZE))\n",
    "DESCRIPTIONS = pd.read_csv(PATH_DESCRIPTOR, sep=\" \", header=None)\n",
    "\n",
    "\n",
    "# -- Describe every tweet -- #\n",
    "(X_STRING, X_SCALAR) = descriptor(DATA_SAMPLE[\"text\"], DESCRIPTIONS, SENTENCE_SIZE, WORD_SIZE, FILL_WITH)\n",
    "\n",
    "# -- Get the labels -- #\n",
    "IMPORTANT_WORDS = np.random.randint(2, size=(NB_SAMPLES, SENTENCE_SIZE))\n",
    "\n",
    "\n",
    "print(\"\\nOriginal data :\")\n",
    "print(X_STRING[0], \"\\nlen(X_STRING)\", len(X_STRING))\n",
    "print(\"\\nDescriptor :\")\n",
    "print(X_SCALAR[0], \"\\nX_SCALAR.shape\", X_SCALAR.shape)\n",
    "print(\"\\nLabel :\")\n",
    "print(IMPORTANT_WORDS[0], \"\\nIMPORTANT_WORDS.shape\", IMPORTANT_WORDS.shape)"
   ]
  },
  {
   "cell_type": "markdown",
   "metadata": {},
   "source": [
    "# Classification"
   ]
  },
  {
   "cell_type": "code",
   "execution_count": null,
   "metadata": {},
   "outputs": [],
   "source": [
    "from sklearn.neighbors import KNeighborsRegressor"
   ]
  },
  {
   "cell_type": "code",
   "execution_count": null,
   "metadata": {},
   "outputs": [],
   "source": [
    "nb_neighbors = 2\n",
    "\n",
    "knn = KNeighborsRegressor(nb_neighbors, weights=\"distance\")\n",
    "knn.fit(X_SCALAR, IMPORTANT_WORDS)"
   ]
  },
  {
   "cell_type": "code",
   "execution_count": null,
   "metadata": {},
   "outputs": [],
   "source": [
    "from utils.post_processing import pred_to_sentence, sentence_to_string, filter_character\n",
    "\n",
    "pred = knn.predict(X_SCALAR)\n",
    "meaning_sentences = pred_to_sentence(X_STRING, pred)\n",
    "\n",
    "results = []\n",
    "for sentence in meaning_sentences:\n",
    "    result = \"\"\n",
    "    for word in sentence:\n",
    "        filtered_word = filter_character(word, \"$\")\n",
    "        if len(filtered_word) != 0:\n",
    "            result += filtered_word + \" \"\n",
    "    results.append(result)\n",
    "results=np.array(results, dtype=object)"
   ]
  },
  {
   "cell_type": "code",
   "execution_count": null,
   "metadata": {},
   "outputs": [],
   "source": [
    "print(results)"
   ]
  },
  {
   "cell_type": "code",
   "execution_count": null,
   "metadata": {},
   "outputs": [],
   "source": [
    "print(DATA[:, 2])"
   ]
  },
  {
   "cell_type": "code",
   "execution_count": null,
   "metadata": {},
   "outputs": [],
   "source": [
    "from utils.loss import jaccard\n",
    "\n",
    "avg = 0\n",
    "for i in range(len(results)):\n",
    "    print(avg)\n",
    "    avg += jaccard(results[i], SMALL_DATA.sample_data[\"selected_text\"].to_numpy()[i])\n",
    "avg /= len(results)\n",
    "\n",
    "print(avg)"
   ]
  },
  {
   "cell_type": "code",
   "execution_count": null,
   "metadata": {},
   "outputs": [],
   "source": []
  }
 ],
 "metadata": {
  "kernelspec": {
   "display_name": "Python 3",
   "language": "python",
   "name": "python3"
  },
  "language_info": {
   "codemirror_mode": {
    "name": "ipython",
    "version": 3
   },
   "file_extension": ".py",
   "mimetype": "text/x-python",
   "name": "python",
   "nbconvert_exporter": "python",
   "pygments_lexer": "ipython3",
   "version": "3.7.7"
  }
 },
 "nbformat": 4,
 "nbformat_minor": 4
}
