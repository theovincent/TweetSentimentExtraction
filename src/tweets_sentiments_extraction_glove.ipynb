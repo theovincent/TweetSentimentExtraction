{
 "cells": [
  {
   "cell_type": "code",
   "execution_count": 1,
   "metadata": {},
   "outputs": [],
   "source": [
    "from pathlib import Path\n",
    "import numpy as np\n",
    "import pandas as pd\n",
    "import matplotlib.pyplot as plt\n",
    "from nltk.tokenize import WordPunctTokenizer"
   ]
  },
  {
   "cell_type": "markdown",
   "metadata": {},
   "source": [
    "# Data base import"
   ]
  },
  {
   "cell_type": "code",
   "execution_count": 2,
   "metadata": {},
   "outputs": [],
   "source": [
    "from utils import sample_data\n",
    "\n",
    "# -- Get the data -- #\n",
    "NB_SAMPLES = 10\n",
    "TRAIN_SAMPLE = Path(\"../data/samples/sample_{}_train.csv\".format(NB_SAMPLES))\n",
    "VALID_SAMPLE = Path(\"../data/samples/sample_{}_validation.csv\".format(NB_SAMPLES))\n",
    "TRAIN_SAMPLE = pd.read_csv(TRAIN_SAMPLE).to_numpy()\n",
    "VALID_SAMPLE = pd.read_csv(VALID_SAMPLE).to_numpy()\n",
    "\n",
    "\n",
    "# -- Clean the data -- #\n",
    "from utils.clean_data import clean_data\n",
    "TRAIN_SAMPLE = clean_data(TRAIN_SAMPLE)\n",
    "VALID_SAMPLE = clean_data(VALID_SAMPLE)"
   ]
  },
  {
   "cell_type": "code",
   "execution_count": 3,
   "metadata": {},
   "outputs": [
    {
     "name": "stdout",
     "output_type": "stream",
     "text": [
      "[['20951ebfde'\n",
      "  ' While im stuck INSIDE in Elk Grove Village working all day   Someone should enjoy it!'\n",
      "  'While im stuck INSIDE in Elk Grove Village working all day   Someone should enjoy it'\n",
      "  0]\n",
      " ['e283379cad'\n",
      "  'hates the net. ayaw bumukas ng twitter.  http://plurk.com/p/wxlxs'\n",
      "  'hates the net.' -1]\n",
      " ['0bc3d2ce9f'\n",
      "  'Im feeling so nostalgic. Im sad. But happy. I don`t now how to feel. It`s over, but not at the same time. It just feels over.  i love you.'\n",
      "  'love' 1]\n",
      " ['e316d2f54b' '_in_NH night bud' '_in_NH night bud' 0]\n",
      " ['57d554e002' 'time for work!' 'time for work!' 0]\n",
      " ['35d95a6bfa'\n",
      "  'http://twitpic.com/4wqfv - dark berry mocha frapp.. heaven.. TRY IT EVERYONE!!  here.. let me pass it to you'\n",
      "  'dark berry mocha frapp.. heaven.. TRY IT EVERYONE!!  here.. let me pass it to you'\n",
      "  1]\n",
      " ['a2f6c5cca9'\n",
      "  'Playing with the munchkin today, talking cakes and getting ready for a yard sale tomorrow. Not looking forward to that'\n",
      "  'Not looking forward to that' -1]\n",
      " ['dcacc9ef8f'\n",
      "  'They just layed off 23 teachers in the city near me  I wonder if I should be thinking about not going into that jobfield...'\n",
      "  'They just layed off 23 teachers in the city near me  I wonder if I should be thinking about not going into that jobfield...'\n",
      "  0]\n",
      " ['e668df7ceb' '  I hope you have a nice sleep' 'a nice' 1]]\n"
     ]
    }
   ],
   "source": [
    "print(TRAIN_SAMPLE)"
   ]
  },
  {
   "cell_type": "markdown",
   "metadata": {},
   "source": [
    "# Pre-processing\n",
    "#### TWEET_ORIGINALS : List of the tweets : Array, shape = (len(nb_tweets))\n",
    "#### TWEET_STRINGS : List of the list of the word of each tweet : List of list of string\n",
    "#### TWEET_SCALARS : List of the description of each tweet : Array, shape = (len(nb_tweets), sentence_size * word_size)\n",
    "#### IMPORTANT_WORDS : List of the label of each tweet : Array, shape = (len(nb_tweets), sentence_size)"
   ]
  },
  {
   "cell_type": "code",
   "execution_count": 17,
   "metadata": {},
   "outputs": [
    {
     "name": "stdout",
     "output_type": "stream",
     "text": [
      "First tweet :\n",
      " While im stuck INSIDE in Elk Grove Village working all day   Someone should enjoy it!\n",
      "Shape of TWEET_ORIGINAL : (9,)\n"
     ]
    }
   ],
   "source": [
    "# -- Parameters -- #\n",
    "WORD_SIZE = 50  # 50 or 100 or 200 or 300\n",
    "FILL_WITH = 0  # If a word is not in the dictionary, [0, ..., 0] will describe it.\n",
    "SENTIMENT_WEIGHT = 2  # Multiply the sentiment by a factor\n",
    "OPTIONS = [WORD_SIZE, FILL_WITH, SENTIMENT_WEIGHT]\n",
    "\n",
    "SENTENCE_SIZE = 50  # What ever\n",
    "\n",
    "\n",
    "# -- Get the original tweets -- #\n",
    "TWEET_ORIGINALS_TRAIN = TRAIN_SAMPLE[:, 1]\n",
    "TWEET_ORIGINALS_VALID = VALID_SAMPLE[:, 1]\n",
    "print(\"First tweet :\")\n",
    "print(TWEET_ORIGINALS_TRAIN[0])\n",
    "print(\"Shape of TWEET_ORIGINAL :\", TWEET_ORIGINALS_TRAIN.shape)"
   ]
  },
  {
   "cell_type": "code",
   "execution_count": 18,
   "metadata": {},
   "outputs": [
    {
     "name": "stdout",
     "output_type": "stream",
     "text": [
      "Decomposition of the first tweet :\n",
      "['While', 'im', 'stuck', 'INSIDE', 'in', 'Elk', 'Grove', 'Village', 'working', 'all', 'day', 'Someone', 'should', 'enjoy', 'it', '!']\n",
      "Length of TWEET_STRING : 9\n"
     ]
    }
   ],
   "source": [
    "from descriptors.tweet_string.create_strings import create_strings\n",
    "from descriptors.tokenizer.tokenizer import Tokenizer\n",
    "\n",
    "# Initialize the tokenizer\n",
    "TOKENIZER = Tokenizer()\n",
    "\n",
    "# -- Get the decomposition of the tweets -- #\n",
    "TWEET_STRINGS_TRAIN = create_strings(TWEET_ORIGINALS_TRAIN, TOKENIZER, SENTENCE_SIZE)\n",
    "TWEET_STRINGS_VALID = create_strings(TWEET_ORIGINALS_VALID, TOKENIZER, SENTENCE_SIZE)\n",
    "print(\"Decomposition of the first tweet :\")\n",
    "print(TWEET_STRINGS_TRAIN[0])\n",
    "print(\"Length of TWEET_STRING :\", len(TWEET_STRINGS_TRAIN))\n"
   ]
  },
  {
   "cell_type": "code",
   "execution_count": 19,
   "metadata": {},
   "outputs": [
    {
     "name": "stdout",
     "output_type": "stream",
     "text": [
      "Description of the first tweet :\n",
      "[ 3.98186880e-01 -7.04447765e-01  2.57973631e-01  6.26618929e-01\n",
      "  5.92167746e-01  1.13590603e+00 -7.05853351e-01 -1.08567245e+00\n",
      "  1.39981968e-01 -2.25284364e-01  9.60481857e-01 -1.13313679e+00\n",
      "  5.16806788e-02 -8.21873803e-01 -7.63108259e-01 -7.16992083e-01\n",
      " -1.38304009e+00 -8.41860948e-01 -8.10305726e-01 -5.12445505e-01\n",
      "  1.01692394e+00  6.99856011e-01 -8.54144625e-02 -1.21841882e+00\n",
      " -7.71775138e-01 -3.82149272e-01  1.55468040e+00 -6.63420772e-02\n",
      " -3.84821354e-01  4.26225494e-01  8.82667253e-01  3.90444992e-01\n",
      "  5.66644792e-01 -1.53821188e-01  8.16075547e-01 -1.13332499e-01\n",
      " -9.17984217e-01  2.04232420e-01  5.62530600e-02  4.34897177e-01\n",
      " -3.86646983e-01  9.93050074e-01  1.76348857e+00 -1.30130618e+00\n",
      "  7.44452145e-02 -1.10666922e-01 -7.16509643e-01 -6.26869774e-01\n",
      "  7.13544962e-01 -1.45287885e+00 -1.11516070e+00  2.20000548e-01\n",
      "  2.31980001e+00 -9.50234459e-01 -2.03769673e+00 -1.88218616e+00\n",
      "  2.31884545e+00 -2.39917648e-01  2.11147136e-01  6.14321821e-01\n",
      "  4.82551674e-01 -2.39910847e-01 -1.22441109e+00 -1.25461682e+00\n",
      " -2.81925470e-01  1.09451964e+00  1.67532852e+00  1.53187555e+00\n",
      "  1.29749504e+00  2.45762545e+00  9.77530352e-01 -1.43335461e+00\n",
      "  8.72338344e-01  2.64153944e+00  7.96468117e-01  1.61770587e+00\n",
      " -7.68603735e-01 -1.85012115e+00 -1.82010188e+00  4.31023023e-02\n",
      " -2.42704777e+00 -1.54479980e+00  8.54419799e-01  1.48459077e+00\n",
      " -1.83232697e+00 -1.83324946e+00  1.40671236e+00  2.07402751e+00\n",
      " -1.73241728e-01  5.27680469e-01  2.58315555e+00 -1.56863634e+00\n",
      "  6.99954211e-01  1.81126917e+00  6.51114007e-01 -2.67767078e+00\n",
      "  1.21492042e+00 -1.45013269e+00  1.01979418e+00  1.03756906e+00\n",
      " -7.77558736e-01 -2.47030937e-01  1.11182898e+00 -1.04346621e+00\n",
      " -2.47463335e-01  1.31933551e-01 -1.47559713e+00  1.36140295e+00\n",
      " -7.47802156e-01 -9.80487955e-01  3.73419254e-01 -8.54660074e-01\n",
      " -8.08746317e-01  1.40528430e+00  2.93201125e-01  7.53566166e-01\n",
      " -1.00342390e+00  7.40029429e-01  7.05487639e-01 -2.72891642e-01\n",
      " -5.35778208e-01  2.52825378e-01 -4.19011918e-01  8.17937183e-01\n",
      "  9.03324024e-01 -1.08733868e-01  6.11055022e-01  1.08090313e+00\n",
      "  4.37798565e-01  3.59980853e-01 -2.76012689e-01 -1.93009686e-01\n",
      "  3.69208004e-01  7.54724742e-01 -2.76308561e-01 -1.33570757e-01\n",
      "  5.51850829e-01 -1.15583474e-01  3.00837113e-01  6.69773439e-02\n",
      " -5.35018806e-01 -2.63878549e-01  2.59271259e-01  4.65553959e-01\n",
      " -7.20101105e-02 -6.25459946e-01  1.35793106e-01 -4.58581118e-02\n",
      "  5.56729684e-01 -6.81840626e-01  1.22345656e+00  3.66524019e-02\n",
      "  1.45641487e+00 -3.41767327e-01  2.14568120e+00 -1.14576134e+00\n",
      " -2.33727097e-01  5.32714509e-01  1.11897706e+00 -1.08820087e+00\n",
      " -5.47734714e-01 -1.92851693e+00 -6.95872878e-01  1.21166224e+00\n",
      " -7.44762095e-01  1.45063126e+00  3.80028783e-01 -1.95764057e-01\n",
      " -2.70654610e-01 -4.11218940e-01  5.90704454e-01  7.66841829e-01\n",
      " -5.64223957e-01  1.53736167e+00 -8.10040161e-01 -7.04673681e-01\n",
      "  6.96775090e-01  1.57498647e+00  7.43493148e-01 -3.38120866e-01\n",
      "  6.46614122e-01 -7.84516105e-01 -1.68043292e-01 -8.82582198e-01\n",
      " -4.22152655e-01  2.08653745e+00  5.56274497e-01  3.01308343e-01\n",
      "  2.74380897e-01  1.75037753e+00  1.41327938e+00  4.77209028e-01\n",
      " -3.15250931e-01  9.41747140e-01  1.08623737e+00  7.56369697e-02\n",
      "  5.92051804e-01 -6.57923814e-01 -1.29657051e-01 -1.58404983e+00\n",
      "  1.38855971e+00  6.77075793e-02 -1.04898599e+00 -1.76602638e-01\n",
      " -7.73910252e-01  8.67688152e-02 -6.43612186e-01  6.68197187e-01\n",
      "  4.66154334e-01 -6.58731463e-01  3.61158974e-01 -1.69034336e+00\n",
      " -7.73279341e-01 -1.38096056e+00  3.96330187e-01  1.28332307e-01\n",
      " -2.48241349e-02  2.87180229e-01 -1.07133997e+00  1.05468711e+00\n",
      "  1.93429807e+00 -1.81171396e+00  5.62255408e-02  3.56630877e-02\n",
      " -9.98084675e-01 -1.11543825e+00 -6.16121206e-01  2.63533222e-02\n",
      " -9.81599656e-01  2.87270316e-01  1.04013212e+00 -2.85395008e-01\n",
      "  4.54166629e-01 -1.20567805e+00  4.17950077e-01  4.81264561e-01\n",
      " -2.00624110e-01  1.53664759e+00  1.66771809e-01 -1.26903458e-02\n",
      " -1.31469493e+00 -1.32830097e-01  5.44908025e-02 -9.35558927e-01\n",
      " -1.11607315e+00  9.01092499e-01 -1.26630128e-01 -1.00044369e+00\n",
      " -8.38511452e-01 -2.00761364e+00  1.05509694e-01  3.75702179e-01\n",
      " -5.91376503e-01 -6.35721743e-01  7.11214411e-01  1.22317354e+00\n",
      " -2.07366438e+00 -2.23347122e+00  2.34000787e+00 -2.46266855e+00\n",
      " -1.55455536e+00 -9.22577388e-01  2.26734793e+00 -2.15083428e+00\n",
      " -2.24722804e+00  1.50289031e+00  1.82649264e+00  1.38097927e+00\n",
      " -2.24784047e+00  3.51440797e-01 -1.99092371e+00 -2.14387291e+00\n",
      "  2.39934848e-01 -5.81653409e-02 -5.45685693e-01 -5.23516053e-01\n",
      " -1.11688637e-02  1.15470069e+00  3.15428184e-01 -2.28906101e+00\n",
      " -5.40121329e-01 -6.24904919e-02  3.53297709e-01  1.40033890e-01\n",
      "  1.56154996e-02 -1.06918026e+00 -1.69080248e+00 -1.85479339e+00\n",
      "  5.21670408e-01  7.76987300e-01 -1.60989468e+00 -2.23683088e-01\n",
      " -2.31230123e+00  1.08693129e+00  1.71834636e+00 -5.44420301e-01\n",
      "  6.66513193e-01 -9.11572195e-01 -6.32526199e-02 -1.24323771e+00\n",
      " -6.13281184e-01  2.21116492e+00 -1.28480427e+00  6.13826288e-01\n",
      "  2.57333365e-02 -7.23532003e-02 -2.14613055e+00 -9.38530309e-01\n",
      "  1.00778007e+00 -2.13561210e+00 -1.68116876e+00 -4.26616855e-01\n",
      "  1.53866666e+00 -2.14018887e+00 -1.70271694e+00 -5.82253587e-01\n",
      "  8.21116513e-01  1.76820103e+00 -4.28448192e-01 -3.98257739e-01\n",
      " -9.53397837e-02 -1.03719624e+00 -1.31958828e+00  7.15031717e-01\n",
      " -8.89989532e-01  8.94802075e-01  1.44356499e+00  1.20146709e+00\n",
      " -4.04469464e-01 -1.40637228e+00 -1.92212972e-01 -2.38362002e+00\n",
      "  2.36682392e-01  1.41503697e-01  1.63646899e+00 -1.29364626e+00\n",
      " -9.93609190e-01 -1.28938834e+00  1.09552644e+00 -1.61661609e+00\n",
      " -3.24815903e-01 -2.32409200e+00 -1.85993441e+00 -7.45963370e-01\n",
      "  1.66641711e+00  1.73293543e+00 -4.73809547e-02 -1.35593865e+00\n",
      " -5.66995045e-01 -6.53252608e-01  9.64493761e-01  1.15602061e+00\n",
      " -5.06900477e-01 -8.13034892e-01  8.75977627e-01 -4.11131029e-01\n",
      " -1.84761956e-01  6.27357532e-01 -4.77186451e-01 -2.03195667e+00\n",
      " -1.12729276e+00 -2.57850379e+00  1.15053139e+00 -2.07388408e+00\n",
      " -1.44842722e+00  1.29059134e+00  1.86007216e+00  2.77540026e+00\n",
      "  9.59243802e-02  2.33973652e+00 -3.60815475e-01  1.28439797e+00\n",
      " -1.06869040e+00  2.00435338e+00 -2.60221919e-01 -3.54847157e-01\n",
      " -4.67988563e-01  1.11204679e+00 -1.55170977e-01  3.23805537e-01\n",
      "  9.21296009e-01 -2.63183940e+00  1.40554467e+00  1.44520587e-01\n",
      "  1.37782860e+00  1.84669420e+00  9.11736189e-01 -3.42361929e-01\n",
      "  9.72075047e-01  2.52828153e+00 -1.00755117e+00  6.26915426e-01\n",
      "  6.84708527e-01 -2.22853918e+00 -8.02448569e-01 -5.55948075e-02\n",
      " -2.42944841e+00 -1.27937236e+00  2.23062473e+00 -9.46931531e-01\n",
      "  5.95256337e-01 -1.05295544e+00  4.35940870e-01 -2.12326372e+00\n",
      " -3.91965047e-01 -2.27206958e-01 -1.82160560e+00  2.94611518e-01\n",
      "  9.95922556e-01 -1.60475871e+00  1.21992014e+00  2.49271864e-01\n",
      " -8.53882921e-02  2.05049470e+00  1.55790903e-01 -1.65881884e+00\n",
      "  7.26806638e-01  1.63132482e+00  1.72288490e+00 -7.76554963e-01\n",
      "  1.47834106e+00  2.13544286e+00 -1.70967339e-01  1.72812601e+00\n",
      "  6.58358483e-01 -3.76242330e-01  2.10112582e-01 -2.03426495e+00\n",
      " -6.67240670e-01  8.49543938e-01  6.13493726e-01 -6.67092742e-01\n",
      " -1.48635641e+00 -8.96785459e-01  1.00358802e-02  1.26741071e+00\n",
      " -1.30048594e+00  1.36486896e+00  9.19755771e-01 -1.40627951e-01\n",
      " -8.63376247e-01 -1.02170337e+00  1.49880007e+00  3.68920325e-01\n",
      "  9.78250157e-01 -2.04074654e+00 -2.74810842e-01  5.97003842e-01\n",
      " -1.88225136e+00  1.19989559e+00 -5.27029466e-02  3.46547161e-01\n",
      "  8.08682866e-02  4.52255882e-01  8.63674125e-01  1.47768107e+00\n",
      " -1.54816721e-01 -1.80965842e+00 -1.05591112e+00 -3.34806410e-01\n",
      "  7.86026606e-01  5.85234338e-01 -1.22104480e+00 -1.87375947e-01\n",
      "  8.95813550e-01 -4.36592892e-01  5.92653974e-02 -2.21293684e-01\n",
      "  1.24623874e-02 -1.16749029e+00 -2.88117042e-01  4.29636499e-01\n",
      "  1.79550175e+00 -4.61076940e-01 -2.36051793e-01 -5.48489755e-01\n",
      " -1.49546336e+00 -8.47815821e-01 -5.66114929e-02 -1.02371612e+00\n",
      "  1.46466594e+00  8.47266127e-01 -5.26628167e-02 -1.48466842e+00\n",
      "  9.22708788e-01  6.06912103e-01  1.17590278e+00 -4.18146375e-01\n",
      " -1.07556113e+00  5.12799696e-01 -1.03981435e+00 -5.39182725e-01\n",
      "  1.39937911e+00  1.50655565e+00 -1.65785061e+00  1.48017734e+00\n",
      " -1.73191967e+00  7.10918399e-01 -1.88593531e+00 -6.99145759e-01\n",
      " -2.85836633e-02  1.92212314e+00 -1.91480549e+00 -6.61519848e-01\n",
      "  1.01300811e+00 -1.40308611e+00 -2.23056757e+00  6.94733406e-01\n",
      "  9.88482538e-01 -1.23908014e+00 -2.37547798e+00 -1.96447312e+00\n",
      " -2.13156797e-01  6.91692389e-01  1.58942117e+00 -8.01480921e-01\n",
      " -2.01885384e+00 -2.46465354e+00 -2.12751051e+00  1.95676246e-01\n",
      "  1.63156424e+00  7.44297107e-01  5.72997707e-01 -1.57136107e+00\n",
      "  2.14270600e-01 -5.04643842e-01  2.05800391e-01 -1.71806531e-01\n",
      " -4.27507897e-01  1.19107327e+00  9.26600780e-01  1.22525448e+00\n",
      " -5.16534720e-01  1.56888485e+00  1.03889575e+00 -1.41149401e+00\n",
      "  1.08996690e+00  3.48628923e-02 -2.45291308e-01  8.48698646e-01\n",
      " -2.75053078e+00  2.02142489e+00 -2.60712971e+00 -3.63452929e-01\n",
      "  6.74364062e-01  8.61371782e-01  1.04051389e+00 -1.11416890e+00\n",
      " -3.14652395e-01 -3.90741003e-01 -6.98074021e-02 -1.30065286e+00\n",
      "  2.69327510e+00 -7.22219158e-01  2.09763138e+00  2.20089906e+00\n",
      " -5.21970628e-01 -7.38694097e-01 -4.41961284e-01  2.29611101e+00\n",
      " -1.51203623e+00 -3.54289048e-01  8.24889076e-01  4.98905185e-01\n",
      "  1.12663315e+00  4.91269019e-01 -1.53088023e+00  5.09544739e-01\n",
      "  5.76942612e-01 -2.90941469e-01  1.90677231e-01  1.61575224e+00\n",
      " -8.74744657e-02  6.24295309e-01  1.13159687e+00 -8.53278299e-01\n",
      "  1.33400365e-01  2.99788135e-01  1.38195301e+00 -1.23719860e+00\n",
      "  4.78506700e-01  3.32301724e-01 -3.78920992e-01 -1.43233651e+00\n",
      " -3.77439401e-02  5.75590766e-01  1.43395920e-01 -6.82051012e-01\n",
      "  1.30140177e+00 -1.68141074e+00  9.39406560e-01  2.32609083e+00\n",
      "  1.41647933e-01  1.64106457e+00 -1.85992858e+00 -2.60283525e+00\n",
      "  9.06057274e-02 -2.34214649e-01  2.61517123e+00  1.68294359e-01\n",
      "  1.40640635e+00 -1.40912542e+00  1.34647480e-01 -1.17402640e+00\n",
      "  7.04928570e-01 -8.58467504e-02  8.14541937e-01  5.08458846e-01\n",
      "  3.21844785e-01 -7.64697154e-01  1.64237152e+00  7.07575412e-01\n",
      " -2.65931520e-01 -8.11185449e-01  9.28113785e-01  2.41989502e+00\n",
      "  2.02462964e+00 -1.90215256e+00  2.00808921e+00 -1.74397093e+00\n",
      "  2.85177076e-01 -9.41449462e-01  9.60168957e-01 -8.14237314e-01\n",
      "  2.91245524e-03 -1.38154385e+00  5.10805474e-01 -1.06931745e+00\n",
      " -9.07385208e-02 -2.87293568e-01  1.47994769e+00  1.30414967e+00\n",
      " -1.52038012e+00 -1.50257948e+00 -7.62705272e-02 -1.58491893e+00\n",
      "  7.91275743e-01  8.19312753e-01 -9.51712745e-01 -4.60174454e-01\n",
      " -1.45158949e+00 -5.99878815e-01  1.70474432e+00  1.77149938e+00\n",
      " -4.27339587e-01  4.60622078e-01 -2.02674597e+00  1.37011406e+00\n",
      " -1.36409936e-01 -2.28848613e-02 -7.66386727e-01  1.81494848e+00\n",
      " -2.32968542e+00  4.69460668e-01  6.83950973e-01 -1.30174778e+00\n",
      " -5.20840178e-01  1.01731758e+00  7.72019205e-01  1.05681088e+00\n",
      "  3.74429948e-01 -2.09550287e-01  2.38547198e+00 -4.49491784e-01\n",
      "  3.91162091e-01  9.58264483e-01  1.86126356e+00 -1.71261440e-01\n",
      "  1.42225571e+00 -1.94954359e+00  5.28305365e-01  1.97430419e+00\n",
      " -5.41990421e-01  1.46354399e+00  1.40690083e+00  3.11848187e-01\n",
      " -1.39403441e-01 -1.45496574e+00  8.73712908e-01  6.94355616e-01\n",
      "  9.69278042e-01  2.34789729e+00 -1.24947341e-01 -1.99810568e-01\n",
      "  2.37658720e-01 -6.31242086e-02 -2.02681306e+00  9.97971565e-01\n",
      " -2.22930889e+00 -6.37397720e-01 -1.28205492e+00  2.26980754e-01\n",
      "  7.99698956e-01  1.72544955e+00 -1.45556195e+00 -9.95554944e-01\n",
      " -1.80496787e+00 -4.12209236e-01 -1.34767137e+00 -2.30481713e-01\n",
      "  1.39894304e+00 -1.09283515e+00 -3.99789566e-01 -3.72432890e-01\n",
      "  8.63439432e-01  1.05949300e+00 -2.50973807e-01 -2.44360757e-02\n",
      "  2.98741383e-01  4.76254460e-01  7.43420188e-01  2.05572947e-01\n",
      " -3.81228278e-01 -2.71347642e-01  1.72642459e-01  1.20082014e+00\n",
      "  9.75784445e-01  3.99998862e-01 -1.92652934e+00 -2.82128546e-01\n",
      "  7.86177912e-02 -8.63078356e-02  3.97392121e-01  3.67268190e-02\n",
      "  5.47071581e-01 -1.18778511e+00 -6.60508486e-01  1.94942270e+00\n",
      "  1.05267930e+00 -6.40407501e-01  1.39176553e+00 -1.18265550e+00\n",
      "  3.23419467e-01 -1.33070857e+00 -1.01158641e+00 -6.73592666e-01\n",
      " -1.22616941e-01  4.81292939e-01  6.37984866e-01 -6.78507953e-01\n",
      " -1.73632811e-01 -5.25328332e-01 -1.51585319e-01 -1.41343446e-02\n",
      " -1.95723067e+00  1.68473708e+00  1.36963836e-01  4.73060541e-02\n",
      " -7.94563728e-01 -2.56897290e-03 -2.16315354e+00  1.62950516e+00\n",
      "  2.55081321e+00 -1.14526279e+00 -2.20016483e-01 -1.07769573e+00\n",
      "  6.85696265e-01 -1.84844172e+00 -2.00269134e+00  2.52398409e+00\n",
      " -1.80896674e+00  1.13265397e+00 -3.17872667e-01  1.06167892e+00\n",
      "  9.86436228e-01 -1.19739584e+00 -2.07528324e-01  1.72447981e+00\n",
      " -2.05947959e+00  2.39274417e-01 -1.70911780e-01  1.13210110e+00\n",
      "  1.83689923e+00  1.39069144e+00  1.93392884e+00 -7.78247647e-01\n",
      " -2.50815163e+00  1.81392238e+00  1.16250325e+00 -2.46623041e+00\n",
      "  4.03565901e-01  1.51115860e+00 -1.62141443e+00  2.34541097e+00\n",
      " -2.62247609e+00 -7.70403158e-01  1.98572714e+00 -2.40326607e+00\n",
      "  2.30981891e+00 -6.65009143e-01  1.50876074e+00  4.23004152e-01\n",
      " -1.77961705e+00 -2.17789334e+00  1.73895104e+00  4.77966257e-01\n",
      " -3.56601984e-01 -2.43030743e+00  1.70359766e+00  1.07869910e+00\n",
      "  0.00000000e+00]\n",
      "Shape of TWEET_SCLALAR : (9, 801)\n"
     ]
    }
   ],
   "source": [
    "from descriptors.descriptor_glove.descriptor_glove import tweet_scalar_glove\n",
    "from utils.standardize import standardize\n",
    "\n",
    "\n",
    "# Get the dictionary\n",
    "PATH_DICTIONARY = Path(\"../data/glove_descriptor/glove.6B.{}d.txt\".format(WORD_SIZE))\n",
    "DICTIONARY = pd.read_csv(PATH_DICTIONARY, sep=\" \", header=None)\n",
    "\n",
    "# Additional dictionary\n",
    "ADDITIONAL_DIC = {\"..\": \"...\", \"<3\": \"love\"}\n",
    "\n",
    "# Get the sentiments\n",
    "SENTIMENTS_TRAIN = TRAIN_SAMPLE[:, -1]\n",
    "SENTIMENTS_VALID = VALID_SAMPLE[:, -1]\n",
    "\n",
    "# -- Get the decriptions of each tweets -- #\n",
    "TWEET_SCALARS_TRAIN = tweet_scalar_glove(TWEET_STRINGS_TRAIN, SENTIMENTS_TRAIN, DICTIONARY, ADDITIONAL_DIC, OPTIONS)\n",
    "TWEET_SCALARS_VALID = tweet_scalar_glove(TWEET_STRINGS_VALID, SENTIMENTS_VALID, DICTIONARY, ADDITIONAL_DIC, OPTIONS)\n",
    "\n",
    "# Standardize the tweet descriptions\n",
    "standardize(TWEET_SCALARS_TRAIN)\n",
    "standardize(TWEET_SCALARS_VALID)\n",
    "\n",
    "print(\"Description of the first tweet :\")\n",
    "print(TWEET_SCALARS_TRAIN[0])\n",
    "print(\"Shape of TWEET_SCLALAR :\", TWEET_SCALARS_TRAIN.shape)"
   ]
  },
  {
   "cell_type": "code",
   "execution_count": 20,
   "metadata": {},
   "outputs": [
    {
     "name": "stdout",
     "output_type": "stream",
     "text": [
      "time for work!\n",
      "time for work!\n",
      "Labels :\n",
      "[1. 1. 1. 1. 0. 0. 0. 0. 0. 0. 0. 0. 0. 0. 0. 0. 0. 0. 0. 0. 0. 0. 0. 0.\n",
      " 0. 0. 0. 0. 0. 0. 0. 0. 0. 0. 0. 0. 0. 0. 0. 0. 0. 0. 0. 0. 0. 0. 0. 0.\n",
      " 0. 0.]\n",
      "Shape of IMPORTANT_WORDS : (9, 50)\n"
     ]
    }
   ],
   "source": [
    "from descriptors.tweet_label.create_labels import create_labels\n",
    "\n",
    "# Create the decompositions of the labels\n",
    "LABEL_ORIGINALS_TRAIN = TRAIN_SAMPLE[:, 1]\n",
    "LABEL_ORIGINALS_VALID = VALID_SAMPLE[:, 1]\n",
    "LABEL_STRINGS_TRAIN = create_strings(LABEL_ORIGINALS_TRAIN, TOKENIZER, SENTENCE_SIZE)\n",
    "LABEL_STRINGS_VALID = create_strings(LABEL_ORIGINALS_VALID, TOKENIZER, SENTENCE_SIZE)\n",
    "\n",
    "# -- Get the labels -- #\n",
    "IMPORTANT_WORDS_TRAIN = create_labels(TWEET_STRINGS_TRAIN, LABEL_STRINGS_TRAIN, SENTENCE_SIZE)\n",
    "IMPORTANT_WORDS_VALID = create_labels(TWEET_STRINGS_VALID, LABEL_STRINGS_VALID, SENTENCE_SIZE)\n",
    "\n",
    "IDX = 4\n",
    "print(TWEET_ORIGINALS_TRAIN[IDX])\n",
    "print(LABEL_ORIGINALS_TRAIN[IDX])\n",
    "print(\"Labels :\")\n",
    "print(IMPORTANT_WORDS_TRAIN[IDX])\n",
    "print(\"Shape of IMPORTANT_WORDS :\", IMPORTANT_WORDS_TRAIN.shape)"
   ]
  },
  {
   "cell_type": "markdown",
   "metadata": {},
   "source": [
    "# Classification"
   ]
  },
  {
   "cell_type": "code",
   "execution_count": 21,
   "metadata": {},
   "outputs": [],
   "source": [
    "from sklearn.neighbors import KNeighborsRegressor"
   ]
  },
  {
   "cell_type": "code",
   "execution_count": 22,
   "metadata": {},
   "outputs": [
    {
     "data": {
      "text/plain": [
       "KNeighborsRegressor(algorithm='auto', leaf_size=30, metric='minkowski',\n",
       "                    metric_params=None, n_jobs=None, n_neighbors=1, p=2,\n",
       "                    weights='distance')"
      ]
     },
     "execution_count": 22,
     "metadata": {},
     "output_type": "execute_result"
    }
   ],
   "source": [
    "NB_NEIGHBORS = 1\n",
    "\n",
    "KNN = KNeighborsRegressor(NB_NEIGHBORS, weights=\"distance\")\n",
    "KNN.fit(TWEET_SCALARS_TRAIN, IMPORTANT_WORDS_TRAIN)"
   ]
  },
  {
   "cell_type": "code",
   "execution_count": 23,
   "metadata": {},
   "outputs": [],
   "source": [
    "PREDICTIONS = KNN.predict(TWEET_SCALARS_TRAIN)"
   ]
  },
  {
   "cell_type": "code",
   "execution_count": 24,
   "metadata": {},
   "outputs": [
    {
     "name": "stdout",
     "output_type": "stream",
     "text": [
      "<class 'numpy.str_'>\n",
      "<class 'numpy.str_'>\n",
      "<class 'numpy.str_'>\n",
      "<class 'numpy.str_'>\n",
      "<class 'numpy.str_'>\n",
      "<class 'numpy.str_'>\n",
      "<class 'numpy.str_'>\n",
      "<class 'numpy.str_'>\n",
      "<class 'numpy.str_'>\n",
      "50\n",
      "50\n",
      "50\n",
      "50\n",
      "50\n",
      "50\n",
      "50\n",
      "50\n",
      "50\n"
     ]
    },
    {
     "ename": "AttributeError",
     "evalue": "'list' object has no attribute 'replace'",
     "output_type": "error",
     "traceback": [
      "\u001b[1;31m---------------------------------------------------------------------------\u001b[0m",
      "\u001b[1;31mAttributeError\u001b[0m                            Traceback (most recent call last)",
      "\u001b[1;32m<ipython-input-24-683707f6c6f5>\u001b[0m in \u001b[0;36m<module>\u001b[1;34m\u001b[0m\n\u001b[0;32m      4\u001b[0m \u001b[1;32mfor\u001b[0m \u001b[0mpred\u001b[0m \u001b[1;32min\u001b[0m \u001b[0mPREDICTIONS\u001b[0m\u001b[1;33m:\u001b[0m\u001b[1;33m\u001b[0m\u001b[1;33m\u001b[0m\u001b[0m\n\u001b[0;32m      5\u001b[0m     \u001b[0mprint\u001b[0m\u001b[1;33m(\u001b[0m\u001b[0mlen\u001b[0m\u001b[1;33m(\u001b[0m\u001b[0mpred\u001b[0m\u001b[1;33m)\u001b[0m\u001b[1;33m)\u001b[0m\u001b[1;33m\u001b[0m\u001b[1;33m\u001b[0m\u001b[0m\n\u001b[1;32m----> 6\u001b[1;33m \u001b[0mprint\u001b[0m\u001b[1;33m(\u001b[0m\u001b[0mpred_to_string\u001b[0m\u001b[1;33m(\u001b[0m\u001b[0mTWEET_ORIGINALS_TRAIN\u001b[0m\u001b[1;33m,\u001b[0m \u001b[0mTWEET_STRINGS_TRAIN\u001b[0m\u001b[1;33m,\u001b[0m \u001b[0mPREDICTIONS\u001b[0m\u001b[1;33m)\u001b[0m\u001b[1;33m)\u001b[0m\u001b[1;33m\u001b[0m\u001b[1;33m\u001b[0m\u001b[0m\n\u001b[0m",
      "\u001b[1;32mC:\\Dossier\\ENPC\\IMI\\MachineLearning\\Projet\\TweetSentimentExtraction\\src\\utils\\post_processing.py\u001b[0m in \u001b[0;36mpred_to_string\u001b[1;34m(original_string, original_sentence, prediction)\u001b[0m\n\u001b[0;32m     31\u001b[0m \u001b[1;33m\u001b[0m\u001b[0m\n\u001b[0;32m     32\u001b[0m \u001b[1;32mdef\u001b[0m \u001b[0mpred_to_string\u001b[0m\u001b[1;33m(\u001b[0m\u001b[0moriginal_string\u001b[0m\u001b[1;33m,\u001b[0m \u001b[0moriginal_sentence\u001b[0m\u001b[1;33m,\u001b[0m \u001b[0mprediction\u001b[0m\u001b[1;33m)\u001b[0m\u001b[1;33m:\u001b[0m\u001b[1;33m\u001b[0m\u001b[1;33m\u001b[0m\u001b[0m\n\u001b[1;32m---> 33\u001b[1;33m     \u001b[0mspaces\u001b[0m \u001b[1;33m=\u001b[0m \u001b[0madd_spaces\u001b[0m\u001b[1;33m(\u001b[0m\u001b[0moriginal_string\u001b[0m\u001b[1;33m,\u001b[0m \u001b[0moriginal_sentence\u001b[0m\u001b[1;33m)\u001b[0m\u001b[1;33m\u001b[0m\u001b[1;33m\u001b[0m\u001b[0m\n\u001b[0m\u001b[0;32m     34\u001b[0m \u001b[1;33m\u001b[0m\u001b[0m\n\u001b[0;32m     35\u001b[0m     \u001b[0mresult\u001b[0m \u001b[1;33m=\u001b[0m \u001b[1;34m\"\"\u001b[0m\u001b[1;33m\u001b[0m\u001b[1;33m\u001b[0m\u001b[0m\n",
      "\u001b[1;32mC:\\Dossier\\ENPC\\IMI\\MachineLearning\\Projet\\TweetSentimentExtraction\\src\\utils\\post_processing.py\u001b[0m in \u001b[0;36madd_spaces\u001b[1;34m(original_string, original_sentence)\u001b[0m\n\u001b[0;32m     12\u001b[0m \u001b[1;33m\u001b[0m\u001b[0m\n\u001b[0;32m     13\u001b[0m     \u001b[1;32mfor\u001b[0m \u001b[0mword\u001b[0m \u001b[1;32min\u001b[0m \u001b[0moriginal_sentence\u001b[0m\u001b[1;33m:\u001b[0m\u001b[1;33m\u001b[0m\u001b[1;33m\u001b[0m\u001b[0m\n\u001b[1;32m---> 14\u001b[1;33m         \u001b[0mfiltered_word\u001b[0m \u001b[1;33m=\u001b[0m \u001b[0mfilter_character\u001b[0m\u001b[1;33m(\u001b[0m\u001b[0mword\u001b[0m\u001b[1;33m,\u001b[0m \u001b[1;34m\"$\"\u001b[0m\u001b[1;33m)\u001b[0m\u001b[1;33m\u001b[0m\u001b[1;33m\u001b[0m\u001b[0m\n\u001b[0m\u001b[0;32m     15\u001b[0m \u001b[1;33m\u001b[0m\u001b[0m\n\u001b[0;32m     16\u001b[0m         \u001b[0mcurrent_index\u001b[0m \u001b[1;33m+=\u001b[0m \u001b[0mlen\u001b[0m\u001b[1;33m(\u001b[0m\u001b[0mword\u001b[0m\u001b[1;33m)\u001b[0m\u001b[1;33m\u001b[0m\u001b[1;33m\u001b[0m\u001b[0m\n",
      "\u001b[1;32mC:\\Dossier\\ENPC\\IMI\\MachineLearning\\Projet\\TweetSentimentExtraction\\src\\utils\\post_processing.py\u001b[0m in \u001b[0;36mfilter_character\u001b[1;34m(string, character)\u001b[0m\n\u001b[0;32m     27\u001b[0m \u001b[1;33m\u001b[0m\u001b[0m\n\u001b[0;32m     28\u001b[0m \u001b[1;32mdef\u001b[0m \u001b[0mfilter_character\u001b[0m\u001b[1;33m(\u001b[0m\u001b[0mstring\u001b[0m\u001b[1;33m,\u001b[0m \u001b[0mcharacter\u001b[0m\u001b[1;33m)\u001b[0m\u001b[1;33m:\u001b[0m\u001b[1;33m\u001b[0m\u001b[1;33m\u001b[0m\u001b[0m\n\u001b[1;32m---> 29\u001b[1;33m     \u001b[1;32mreturn\u001b[0m \u001b[0mstring\u001b[0m\u001b[1;33m.\u001b[0m\u001b[0mreplace\u001b[0m\u001b[1;33m(\u001b[0m\u001b[0mcharacter\u001b[0m\u001b[1;33m,\u001b[0m \u001b[1;34m\"\"\u001b[0m\u001b[1;33m)\u001b[0m\u001b[1;33m\u001b[0m\u001b[1;33m\u001b[0m\u001b[0m\n\u001b[0m\u001b[0;32m     30\u001b[0m \u001b[1;33m\u001b[0m\u001b[0m\n\u001b[0;32m     31\u001b[0m \u001b[1;33m\u001b[0m\u001b[0m\n",
      "\u001b[1;31mAttributeError\u001b[0m: 'list' object has no attribute 'replace'"
     ]
    }
   ],
   "source": [
    "from utils.post_processing import pred_to_string\n",
    "for tweet in TWEET_STRINGS_TRAIN:\n",
    "    print(type(tweet[0]))\n",
    "for pred in PREDICTIONS:\n",
    "    print(len(pred))\n",
    "print(pred_to_string(TWEET_ORIGINALS_TRAIN, TWEET_STRINGS_TRAIN, PREDICTIONS))"
   ]
  },
  {
   "cell_type": "code",
   "execution_count": null,
   "metadata": {},
   "outputs": [],
   "source": [
    "for i in range(len(results)):\n",
    "    print(DATA[i, 1])\n",
    "    print(DATA[i, 2])\n",
    "    print(RESULTS[i])\n",
    "    print()"
   ]
  },
  {
   "cell_type": "code",
   "execution_count": null,
   "metadata": {},
   "outputs": [],
   "source": [
    "from utils.loss import jaccard\n",
    "\n",
    "AVG = 0\n",
    "for i in range(len(RESULTS)):\n",
    "    AVG += jaccard(RESULTS[i], DATA[i, 2])\n",
    "    \n",
    "    if jaccard(RESULTS[i], DATA_SAMPLE[i, 2]) != 1:\n",
    "        print(\"Error on\", i)\n",
    "AVG /= len(RESULTS)\n",
    "\n",
    "print(AVG)"
   ]
  }
 ],
 "metadata": {
  "kernelspec": {
   "display_name": "Python 3",
   "language": "python",
   "name": "python3"
  },
  "language_info": {
   "codemirror_mode": {
    "name": "ipython",
    "version": 3
   },
   "file_extension": ".py",
   "mimetype": "text/x-python",
   "name": "python",
   "nbconvert_exporter": "python",
   "pygments_lexer": "ipython3",
   "version": "3.7.7"
  }
 },
 "nbformat": 4,
 "nbformat_minor": 4
}
