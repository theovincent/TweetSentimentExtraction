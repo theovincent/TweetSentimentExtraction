{
 "cells": [
  {
   "cell_type": "code",
   "execution_count": 8,
   "metadata": {},
   "outputs": [],
   "source": [
    "from pathlib import Path\n",
    "import numpy as np\n",
    "import pandas as pd\n",
    "import matplotlib.pyplot as plt\n",
    "from nltk.tokenize import WordPunctTokenizer"
   ]
  },
  {
   "cell_type": "markdown",
   "metadata": {},
   "source": [
    "# Data base import"
   ]
  },
  {
   "cell_type": "code",
   "execution_count": 10,
   "metadata": {},
   "outputs": [],
   "source": [
    "from utils import sample_data\n",
    "\n",
    "NB_SAMPLES = 100\n",
    "PATH_SAMPLE = Path(\"../data/samples/sample_{}_train.csv\".format(NB_SAMPLES))\n",
    "DATA_SAMPLE = pd.read_csv(PATH_SAMPLE)"
   ]
  },
  {
   "cell_type": "code",
   "execution_count": 13,
   "metadata": {},
   "outputs": [
    {
     "name": "stdout",
     "output_type": "stream",
     "text": [
      "        textID                                               text  \\\n",
      "0   c46ff87273   why, hello there  How`s life on the other sid...   \n",
      "1   020b321aec                         are you call that winning?   \n",
      "2   079e4e3472   or even NOOOOO NOT THE SECRET NAMEREBECCA PLEASE   \n",
      "3   c5637a0ed2  Bran!! Watch my video!!!!! please dont make me...   \n",
      "4   d5e35a43d6  Ahh feels good to have played guitar hero afte...   \n",
      "..         ...                                                ...   \n",
      "94  2e96695013              morning michelle  how`s the oatmeal ?   \n",
      "95  8e5f9c7b1e   Well I will send out an email and you all can...   \n",
      "96  01e1f59fac  cant believe i stay out this late!.....waking ...   \n",
      "97  03e8d4538e                   Oh, I`m jealous (how surprising)   \n",
      "98  c5ec1e7875               are you and melissa celebrities now?   \n",
      "\n",
      "                                        selected_text  sentiment  \n",
      "0   why, hello there  How`s life on the other side...          0  \n",
      "1                          are you call that winning?          0  \n",
      "2                   NOT THE SECRET NAMEREBECCA PLEASE         -1  \n",
      "3   Bran!! Watch my video!!!!! please dont make me...          0  \n",
      "4   Ahh feels good to have played guitar hero afte...          0  \n",
      "..                                                ...        ...  \n",
      "94                morning michelle  how`s the oatmeal          0  \n",
      "95  Well I will send out an email and you all can ...          0  \n",
      "96                                             late!.         -1  \n",
      "97                   Oh, I`m jealous (how surprising)          0  \n",
      "98               are you and melissa celebrities now?          0  \n",
      "\n",
      "[99 rows x 4 columns]\n"
     ]
    }
   ],
   "source": [
    "print(DATA_SAMPLE)"
   ]
  },
  {
   "cell_type": "markdown",
   "metadata": {},
   "source": [
    "# Pre-processing"
   ]
  },
  {
   "cell_type": "code",
   "execution_count": null,
   "metadata": {},
   "outputs": [],
   "source": [
    "from descriptor.glove_descriptor.glove_descriptor import descriptor\n",
    "\n",
    "WORD_SIZE = 50  # 50 or 100 or 200 or 300\n",
    "SENTENCE_SIZE = 50  # What ever\n",
    "FILL_WITH = 0  # Should be an integer\n",
    "SPLIT_PUNCTUATION = False # to tell wheter the puncutation \"!?.;,/\" etc are keeped sticked to a word or not\n",
    "\n",
    "(X_STRING, X_SCALAR) = descriptor(DATA_SAMPLE[\"text\"], DESCRIPTIONS, SENTENCE_SIZE, WORD_SIZE, FILL_WITH)\n",
    "\n",
    "print(DATA.shape, X_STRING.shape, Y.shape, X_SCALAR.shape)\n",
    "\n",
    "print(\"\\nOriginal data :\")\n",
    "print(DATA[0])\n",
    "print(\"\\nFilled sentence :\")\n",
    "print(X_STRING[0])\n",
    "print(\"\\nLabel :\")\n",
    "print(Y[0])\n",
    "print(\"\\nDescriptor :\")\n",
    "print(X_SCALAR[0])"
   ]
  },
  {
   "cell_type": "markdown",
   "metadata": {},
   "source": [
    "# Classification"
   ]
  },
  {
   "cell_type": "code",
   "execution_count": null,
   "metadata": {},
   "outputs": [],
   "source": [
    "from sklearn.neighbors import KNeighborsRegressor"
   ]
  },
  {
   "cell_type": "code",
   "execution_count": null,
   "metadata": {},
   "outputs": [],
   "source": [
    "nb_neighbors = 2\n",
    "\n",
    "knn = KNeighborsRegressor(nb_neighbors, weights=\"distance\")\n",
    "knn.fit(X_SCALAR, Y)"
   ]
  },
  {
   "cell_type": "code",
   "execution_count": null,
   "metadata": {},
   "outputs": [],
   "source": [
    "from utils.post_processing import pred_to_sentence, sentence_to_string, filter_character\n",
    "\n",
    "pred = knn.predict(X_SCALAR)\n",
    "meaning_sentences = pred_to_sentence(X_STRING, pred)\n",
    "\n",
    "results = []\n",
    "for sentence in meaning_sentences:\n",
    "    result = \"\"\n",
    "    for word in sentence:\n",
    "        filtered_word = filter_character(word, \"$\")\n",
    "        if len(filtered_word) != 0:\n",
    "            result += filtered_word + \" \"\n",
    "    results.append(result)\n",
    "results=np.array(results, dtype=object)"
   ]
  },
  {
   "cell_type": "code",
   "execution_count": null,
   "metadata": {},
   "outputs": [],
   "source": [
    "print(results)"
   ]
  },
  {
   "cell_type": "code",
   "execution_count": null,
   "metadata": {},
   "outputs": [],
   "source": [
    "print(DATA[:, 2])"
   ]
  },
  {
   "cell_type": "code",
   "execution_count": null,
   "metadata": {},
   "outputs": [],
   "source": [
    "from utils.loss import jaccard\n",
    "\n",
    "avg = 0\n",
    "for i in range(len(results)):\n",
    "    print(avg)\n",
    "    avg += jaccard(results[i], SMALL_DATA.sample_data[\"selected_text\"].to_numpy()[i])\n",
    "avg /= len(results)\n",
    "\n",
    "print(avg)"
   ]
  },
  {
   "cell_type": "code",
   "execution_count": null,
   "metadata": {},
   "outputs": [],
   "source": []
  }
 ],
 "metadata": {
  "kernelspec": {
   "display_name": "Python 3",
   "language": "python",
   "name": "python3"
  },
  "language_info": {
   "codemirror_mode": {
    "name": "ipython",
    "version": 3
   },
   "file_extension": ".py",
   "mimetype": "text/x-python",
   "name": "python",
   "nbconvert_exporter": "python",
   "pygments_lexer": "ipython3",
   "version": "3.7.7"
  }
 },
 "nbformat": 4,
 "nbformat_minor": 4
}
