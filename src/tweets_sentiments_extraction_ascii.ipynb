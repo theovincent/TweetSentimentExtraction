{
 "cells": [
  {
   "cell_type": "code",
   "execution_count": null,
   "metadata": {},
   "outputs": [],
   "source": [
    "from pathlib import Path\n",
    "from tqdm import tqdm\n",
    "import numpy as np\n",
    "import pandas as pd\n",
    "import matplotlib.pyplot as plt\n",
    "from nltk.tokenize import WordPunctTokenizer"
   ]
  },
  {
   "cell_type": "markdown",
   "metadata": {},
   "source": [
    "# Data base import"
   ]
  },
  {
   "cell_type": "code",
   "execution_count": null,
   "metadata": {},
   "outputs": [],
   "source": [
    "from utils.split_feelings import split\n",
    "\n",
    "PATH_TRAIN = Path(\"../data/samples/sample_1000_train.csv\")\n",
    "PATH_VALID = Path(\"../data/samples/sample_100_validation.csv\")\n",
    "\n",
    "SPLIT_FEELINGS = True\n",
    "\n",
    "if SPLIT_FEELINGS:\n",
    "    POSITIVES_WITH_NEGATIVES = True\n",
    "\n",
    "    train_pos, train_neutral, train_neg = split(PATH_TRAIN, POSITIVES_WITH_NEGATIVES)\n",
    "    valid_pos, valid_neutral, valid_neg = split(PATH_VALID, POSITIVES_WITH_NEGATIVES)\n",
    "    \n",
    "    train_data = train_neutral\n",
    "    validation_data = valid_neutral\n",
    "\n",
    "else:\n",
    "    train_data = pd.read_csv(PATH_TRAIN).to_numpy()\n",
    "    validation_data = pd.read_csv(PATH_VALID).to_numpy()"
   ]
  },
  {
   "cell_type": "code",
   "execution_count": null,
   "metadata": {},
   "outputs": [],
   "source": [
    "print(train_data.shape, validation_data.shape)"
   ]
  },
  {
   "cell_type": "code",
   "execution_count": null,
   "metadata": {},
   "outputs": [],
   "source": [
    "from utils.clean_data import clean_data \n",
    "\n",
    "train_data = clean_data(train_data)\n",
    "traivalidation_data = clean_data(validation_data)"
   ]
  },
  {
   "cell_type": "code",
   "execution_count": null,
   "metadata": {},
   "outputs": [],
   "source": [
    "print(train_data.shape, validation_data.shape)"
   ]
  },
  {
   "cell_type": "markdown",
   "metadata": {},
   "source": [
    "# Pre-processing"
   ]
  },
  {
   "cell_type": "code",
   "execution_count": null,
   "metadata": {},
   "outputs": [],
   "source": [
    "# -- Get the original tweets -- #\n",
    "\n",
    "X_TR_ORIGINAL = train_data[:, 1]\n",
    "X_VAL_ORIGINAL = validation_data[:, 1]\n",
    "\n",
    "Y_TR_ORIGINAL = train_data[:, 2]\n",
    "Y_VAL_ORIGINAL = validation_data[:, 2]\n",
    "\n",
    "FEELINGS_TR = train_data[:, 3]\n",
    "FEELINGS_VAL = validation_data[:, 3]"
   ]
  },
  {
   "cell_type": "code",
   "execution_count": null,
   "metadata": {},
   "outputs": [],
   "source": [
    "from descriptors.tokenizer.tokenizer import Tokenizer\n",
    "from descriptors.tweet_string.create_strings import create_strings\n",
    "\n",
    "# -- Define the tokenizer -- #\n",
    "TOKENIZER = Tokenizer()\n",
    "\n",
    "# -- Create sentences -- #\n",
    "X_TR_STRING = create_strings(X_TR_ORIGINAL, TOKENIZER)\n",
    "X_VAL_STRING = create_strings(X_VAL_ORIGINAL, TOKENIZER)\n",
    "\n",
    "Y_TR_STRING = create_strings(X_TR_ORIGINAL, TOKENIZER)\n",
    "Y_VAL_STRING = create_strings(X_VAL_ORIGINAL, TOKENIZER)\n",
    "\n",
    "print(X_VAL_STRING[0])"
   ]
  },
  {
   "cell_type": "code",
   "execution_count": null,
   "metadata": {},
   "outputs": [],
   "source": [
    "from descriptors.descriptor_ascii.load_data import load_data\n",
    "from descriptors.tweet_label.create_labels import create_labels\n",
    "\n",
    "# ALPHANUM_ONLY = False\n",
    "# SPLIT_PUNCTUATION = False  # to tell wheter the puncutation \"!?.;,/\" etc are keeped sticked to a word or not\n",
    "\n",
    "WORD_SIZE = 30\n",
    "SENTENCE_SIZE = 50\n",
    "FILL_WITH = \"$\"\n",
    "FEELING_WEIGHT = 1\n",
    "\n",
    "\n",
    "# training set --------------------------------------------\n",
    "X_TR_STRING_FILLED, X_TR_SCALAR = load_data(\n",
    "    X_TR_STRING, WORD_SIZE, SENTENCE_SIZE, FILL_WITH, FEELING_WEIGHT, feelings=FEELINGS_TR)\n",
    "\n",
    "Y_TR = create_labels(X_TR_STRING, Y_TR_STRING, SENTENCE_SIZE)\n",
    "\n",
    "\n",
    "# validation set ------------------------------------------\n",
    "X_VAL_STRING_FILLED, X_VAL_SCALAR = load_data(\n",
    "    X_VAL_STRING, WORD_SIZE, SENTENCE_SIZE, FILL_WITH, FEELING_WEIGHT, feelings=FEELINGS_VAL)\n",
    "\n",
    "Y_VAL = create_labels(X_VAL_STRING, Y_VAL_STRING, SENTENCE_SIZE)"
   ]
  },
  {
   "cell_type": "code",
   "execution_count": null,
   "metadata": {},
   "outputs": [],
   "source": [
    "IDX = 0\n",
    "print(\"Original data :\")\n",
    "print(X_TR_ORIGINAL[IDX])\n",
    "print(\"\\nFilled sentence :\")\n",
    "print(X_TR_STRING_FILLED[IDX])\n",
    "print(\"\\nLabel :\")\n",
    "print(Y_TR[IDX])\n",
    "print(\"\\nDescriptor :\")\n",
    "print(X_TR_SCALAR[IDX])"
   ]
  },
  {
   "cell_type": "markdown",
   "metadata": {},
   "source": [
    "### Standardisation"
   ]
  },
  {
   "cell_type": "code",
   "execution_count": null,
   "metadata": {},
   "outputs": [],
   "source": [
    "mu = np.concatenate([X_TR_SCALAR[:, :-1].mean(axis=0), [0]])\n",
    "sigma = X_TR_SCALAR[:, :-1].std(axis=0)\n",
    "\n",
    "X_TR_SCALAR = X_TR_SCALAR - mu\n",
    "X_VAL_SCALAR = X_VAL_SCALAR - mu\n",
    "\n",
    "for i in range(len(sigma)):\n",
    "    if sigma[i] != 0:\n",
    "        X_TR_SCALAR[:, i] /= sigma[i]\n",
    "        X_VAL_SCALAR[:, i] /= sigma[i]"
   ]
  },
  {
   "cell_type": "markdown",
   "metadata": {},
   "source": [
    "# Classification"
   ]
  },
  {
   "cell_type": "code",
   "execution_count": null,
   "metadata": {},
   "outputs": [],
   "source": [
    "#!pip install xgboost"
   ]
  },
  {
   "cell_type": "code",
   "execution_count": null,
   "metadata": {},
   "outputs": [],
   "source": [
    "from sklearn.multioutput import MultiOutputRegressor\n",
    "\n",
    "from sklearn.neighbors import KNeighborsRegressor\n",
    "from sklearn.svm import SVR\n",
    "import xgboost as xgb"
   ]
  },
  {
   "cell_type": "code",
   "execution_count": null,
   "metadata": {},
   "outputs": [],
   "source": [
    "nb_neighbors = 10\n",
    "# regressor = KNeighborsRegressor(nb_neighbors, weights=\"distance\", metric=\"jaccard\")\n",
    "regressor = KNeighborsRegressor(nb_neighbors, weights=\"distance\")\n",
    "\n",
    "# regressor = MultiOutputRegressor(\n",
    "#     xgb.XGBClassifier(objective=\"reg:logistic\")\n",
    "# )\n",
    "\n",
    "#regressor = MultiOutputRegressor(\n",
    "#    SVR(kernel=\"poly\", degree=2)\n",
    "#)\n",
    "\n",
    "regressor.fit(X_TR_SCALAR, Y_TR)"
   ]
  },
  {
   "cell_type": "code",
   "execution_count": null,
   "metadata": {},
   "outputs": [],
   "source": [
    "predictions = regressor.predict(X_VAL_SCALAR)"
   ]
  },
  {
   "cell_type": "code",
   "execution_count": null,
   "metadata": {},
   "outputs": [],
   "source": [
    "from utils.post_processing import preds_to_strings\n",
    "\n",
    "results_val = preds_to_strings(X_VAL_ORIGINAL, X_VAL_STRING, predictions)"
   ]
  },
  {
   "cell_type": "code",
   "execution_count": null,
   "metadata": {},
   "outputs": [],
   "source": [
    "from utils.loss import mean_jaccard\n",
    "\n",
    "accuracy = mean_jaccard(validation_data[:, 2], results_val)\n",
    "print(accuracy)"
   ]
  },
  {
   "cell_type": "code",
   "execution_count": null,
   "metadata": {},
   "outputs": [],
   "source": [
    "def test_knn(n):\n",
    "    regressor = KNeighborsRegressor(n, weights=\"distance\", metric=\"jaccard\")\n",
    "    regressor.fit(X_TR_SCALAR, Y_TR)\n",
    "    predictions = regressor.predict(X_VAL_SCALAR)\n",
    "    results_val = preds_to_strings(X_VAL_ORIGINAL, X_VAL_STRING, predictions)\n",
    "    accuracy = mean_jaccard(validation_data[:, 2], results_val)\n",
    "    \n",
    "    return accuracy"
   ]
  },
  {
   "cell_type": "code",
   "execution_count": null,
   "metadata": {},
   "outputs": [],
   "source": [
    "y =[]\n",
    "for i in range(2,50, 3):\n",
    "    y.append(test_knn(i))\n",
    "plt.plot(y)\n",
    "plt.show()"
   ]
  },
  {
   "cell_type": "code",
   "execution_count": null,
   "metadata": {},
   "outputs": [],
   "source": []
  }
 ],
 "metadata": {
  "kernelspec": {
   "display_name": "Python 3",
   "language": "python",
   "name": "python3"
  },
  "language_info": {
   "codemirror_mode": {
    "name": "ipython",
    "version": 3
   },
   "file_extension": ".py",
   "mimetype": "text/x-python",
   "name": "python",
   "nbconvert_exporter": "python",
   "pygments_lexer": "ipython3",
   "version": "3.7.7"
  }
 },
 "nbformat": 4,
 "nbformat_minor": 4
}
