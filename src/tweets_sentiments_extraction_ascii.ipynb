{
 "cells": [
  {
   "cell_type": "code",
   "execution_count": null,
   "metadata": {},
   "outputs": [],
   "source": [
    "from pathlib import Path\n",
    "import numpy as np\n",
    "import pandas as pd\n",
    "import matplotlib.pyplot as plt\n",
    "from nltk.tokenize import WordPunctTokenizer"
   ]
  },
  {
   "cell_type": "markdown",
   "metadata": {},
   "source": [
    "# Data base import"
   ]
  },
  {
   "cell_type": "code",
   "execution_count": null,
   "metadata": {},
   "outputs": [],
   "source": [
    "from utils import sample_data\n",
    "\n",
    "NB_SAMPLES = 10\n",
    "PATH_SAMPLE = Path(\"../data/samples/sample_{}.csv\".format(NB_SAMPLES))\n",
    "PATH_CSV = Path(\"../data/train.csv\")\n",
    "\n",
    "SMALL_DATA = sample_data.SampleData(\n",
    "    PATH_CSV, nb_samples=NB_SAMPLES,\n",
    "    save=True, path_save=PATH_SAMPLE\n",
    ")\n",
    "\n",
    "DATAFRAME = pd.read_csv(PATH_SAMPLE)\n",
    "DATA = pd.DataFrame.to_numpy(DATAFRAME)"
   ]
  },
  {
   "cell_type": "code",
   "execution_count": null,
   "metadata": {},
   "outputs": [],
   "source": [
    "print(DATAFRAME)"
   ]
  },
  {
   "cell_type": "markdown",
   "metadata": {},
   "source": [
    "# Pre-processing"
   ]
  },
  {
   "cell_type": "code",
   "execution_count": null,
   "metadata": {},
   "outputs": [],
   "source": [
    "from utils.load_data import load_data\n",
    "from utils.data_descriptor import convert_labels\n",
    "\n",
    "ALPHANUM_ONLY = False\n",
    "WORD_SIZE = 30\n",
    "SENTENCE_SIZE = 50\n",
    "FILL_WITH = \"$\"\n",
    "SPLIT_PUNCTUATION = False # to tell wheter the puncutation \"!?.;,/\" etc are keeped sticked to a word or not\n",
    "\n",
    "X_STRING, X_SCALAR = load_data(DATA, WORD_SIZE, SENTENCE_SIZE, FILL_WITH, SPLIT_PUNCTUATION, ALPHANUM_ONLY)\n",
    "\n",
    "Y = convert_labels(DATA, SENTENCE_SIZE, SPLIT_PUNCTUATION)\n",
    "\n",
    "print(DATA.shape, X_STRING.shape, Y.shape, X_SCALAR.shape)\n",
    "\n",
    "print(\"\\nOriginal data :\")\n",
    "print(DATA[0])\n",
    "print(\"\\nFilled sentence :\")\n",
    "print(X_STRING[0])\n",
    "print(\"\\nLabel :\")\n",
    "print(Y[0])\n",
    "print(\"\\nDescriptor :\")\n",
    "print(X_SCALAR[0])"
   ]
  },
  {
   "cell_type": "code",
   "execution_count": null,
   "metadata": {},
   "outputs": [],
   "source": [
    "X_ORIGINAL = DATA[:, 1]"
   ]
  },
  {
   "cell_type": "code",
   "execution_count": null,
   "metadata": {},
   "outputs": [],
   "source": [
    "X_SCALAR.shape"
   ]
  },
  {
   "cell_type": "markdown",
   "metadata": {},
   "source": [
    "# Classification"
   ]
  },
  {
   "cell_type": "code",
   "execution_count": null,
   "metadata": {},
   "outputs": [],
   "source": [
    "from sklearn.neighbors import KNeighborsRegressor"
   ]
  },
  {
   "cell_type": "code",
   "execution_count": null,
   "metadata": {},
   "outputs": [],
   "source": [
    "nb_neighbors = 1\n",
    "\n",
    "knn = KNeighborsRegressor(nb_neighbors, weights=\"distance\")\n",
    "knn.fit(X_SCALAR, Y)"
   ]
  },
  {
   "cell_type": "code",
   "execution_count": null,
   "metadata": {},
   "outputs": [],
   "source": [
    "predictions = knn.predict(X_SCALAR)"
   ]
  },
  {
   "cell_type": "code",
   "execution_count": null,
   "metadata": {},
   "outputs": [],
   "source": [
    "from utils.post_processing import pred_to_string\n",
    "\n",
    "results = np.zeros(len(predictions), dtype=object)\n",
    "for i in range(len(predictions)):\n",
    "    results[i] = pred_to_string(X_ORIGINAL[i], X_STRING[i], predictions[i])"
   ]
  },
  {
   "cell_type": "code",
   "execution_count": null,
   "metadata": {
    "scrolled": true
   },
   "outputs": [],
   "source": [
    "for i in range(len(results)):\n",
    "    print(DATA[i][1])\n",
    "    print(DATA[i][2])\n",
    "    print(results[i])\n",
    "    print()"
   ]
  },
  {
   "cell_type": "code",
   "execution_count": null,
   "metadata": {},
   "outputs": [],
   "source": [
    "from utils.loss import jaccard\n",
    "\n",
    "avg = 0\n",
    "for i in range(len(results)):\n",
    "    avg += jaccard(results[i], DATA[i, 2])\n",
    "    \n",
    "    if jaccard(results[i], DATA[i, 2]) != 1:\n",
    "        print(\"Error on\", i)\n",
    "avg /= len(results)\n",
    "\n",
    "print(avg)"
   ]
  },
  {
   "cell_type": "code",
   "execution_count": null,
   "metadata": {},
   "outputs": [],
   "source": [
    "print(DATA[3][2])\n",
    "\n",
    "for i in range(len(X_STRING[3])):\n",
    "    print()\n",
    "    print(X_STRING[3][i])\n",
    "    print(Y[3][i])"
   ]
  },
  {
   "cell_type": "code",
   "execution_count": null,
   "metadata": {},
   "outputs": [],
   "source": []
  },
  {
   "cell_type": "code",
   "execution_count": null,
   "metadata": {},
   "outputs": [],
   "source": []
  }
 ],
 "metadata": {
  "kernelspec": {
   "display_name": "Python 3",
   "language": "python",
   "name": "python3"
  },
  "language_info": {
   "codemirror_mode": {
    "name": "ipython",
    "version": 3
   },
   "file_extension": ".py",
   "mimetype": "text/x-python",
   "name": "python",
   "nbconvert_exporter": "python",
   "pygments_lexer": "ipython3",
   "version": "3.7.7"
  }
 },
 "nbformat": 4,
 "nbformat_minor": 4
}
