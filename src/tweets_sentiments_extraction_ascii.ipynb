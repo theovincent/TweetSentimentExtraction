{
 "cells": [
  {
   "cell_type": "code",
   "execution_count": 1,
   "metadata": {},
   "outputs": [],
   "source": [
    "from pathlib import Path\n",
    "import numpy as np\n",
    "import pandas as pd\n",
    "import matplotlib.pyplot as plt\n",
    "from nltk.tokenize import WordPunctTokenizer"
   ]
  },
  {
   "cell_type": "markdown",
   "metadata": {},
   "source": [
    "# Data base import"
   ]
  },
  {
   "cell_type": "code",
   "execution_count": 2,
   "metadata": {},
   "outputs": [],
   "source": [
    "from utils import sample_data\n",
    "\n",
    "NB_SAMPLES = 10\n",
    "PATH_SAMPLE = Path(\"../data/samples/sample_{}.csv\".format(NB_SAMPLES))\n",
    "PATH_CSV = Path(\"../data/train.csv\")\n",
    "\n",
    "SMALL_DATA = sample_data.SampleData(\n",
    "    PATH_CSV, nb_samples=NB_SAMPLES,\n",
    "    save=True, path_save=PATH_SAMPLE\n",
    ")\n",
    "\n",
    "DATAFRAME = pd.read_csv(PATH_SAMPLE)\n",
    "DATA = pd.DataFrame.to_numpy(DATAFRAME)"
   ]
  },
  {
   "cell_type": "code",
   "execution_count": 3,
   "metadata": {},
   "outputs": [
    {
     "name": "stdout",
     "output_type": "stream",
     "text": [
      "       textID                                               text  \\\n",
      "0  b0658f9706          Not babysitting tonight. I miss that kid.   \n",
      "1  6416bec5a1                             happy mothers day!  <3   \n",
      "2  86fb428374                                  _d Zwarte maillot   \n",
      "3  1efdd67d78      _Girl OOC sorry we keep missing each other...   \n",
      "4  f2fda0303d  my little sister told me i have a double chin ...   \n",
      "5  cf240ef11f            ha! you`re right...I know you`re right.   \n",
      "6  698b6e5aef  I want tuna & salmon sashimi, B.C. rolls and d...   \n",
      "7  a3527a3ccc  J, sorry about the bad night, hopefully my wor...   \n",
      "8  f83955956a  i`m watching missing pieces, just coz the them...   \n",
      "9  b70e61e2cb  whole foods, barton springs, yogurt spot & the...   \n",
      "\n",
      "                                       selected_text  sentiment  \n",
      "0                                               miss         -1  \n",
      "1                                 happy mothers day!          1  \n",
      "2                                  _d Zwarte maillot          0  \n",
      "3                sorry we keep missing each other...         -1  \n",
      "4  my little sister told me i have a double chin ...          0  \n",
      "5                                      you`re right.          1  \n",
      "6  I want tuna & salmon sashimi, B.C. rolls and d...          0  \n",
      "7  J, sorry about the bad night, hopefully my wor...          0  \n",
      "8                                               lost         -1  \n",
      "9                                            perfect          1  \n"
     ]
    }
   ],
   "source": [
    "print(DATAFRAME)"
   ]
  },
  {
   "cell_type": "markdown",
   "metadata": {},
   "source": [
    "# Pre-processing"
   ]
  },
  {
   "cell_type": "code",
   "execution_count": 4,
   "metadata": {},
   "outputs": [
    {
     "name": "stdout",
     "output_type": "stream",
     "text": [
      "(10, 4) (10, 50) (10, 50) (10, 1501)\n",
      "\n",
      "Original data :\n",
      "['b0658f9706' 'Not babysitting tonight. I miss that kid.' 'miss' -1]\n",
      "\n",
      "Filled sentence :\n",
      "['Not$$$$$$$$$$$$$$$$$$$$$$$$$$$' 'babysitting$$$$$$$$$$$$$$$$$$$'\n",
      " 'tonight.$$$$$$$$$$$$$$$$$$$$$$' 'I$$$$$$$$$$$$$$$$$$$$$$$$$$$$$'\n",
      " 'miss$$$$$$$$$$$$$$$$$$$$$$$$$$' 'that$$$$$$$$$$$$$$$$$$$$$$$$$$'\n",
      " 'kid.$$$$$$$$$$$$$$$$$$$$$$$$$$' '$$$$$$$$$$$$$$$$$$$$$$$$$$$$$$'\n",
      " '$$$$$$$$$$$$$$$$$$$$$$$$$$$$$$' '$$$$$$$$$$$$$$$$$$$$$$$$$$$$$$'\n",
      " '$$$$$$$$$$$$$$$$$$$$$$$$$$$$$$' '$$$$$$$$$$$$$$$$$$$$$$$$$$$$$$'\n",
      " '$$$$$$$$$$$$$$$$$$$$$$$$$$$$$$' '$$$$$$$$$$$$$$$$$$$$$$$$$$$$$$'\n",
      " '$$$$$$$$$$$$$$$$$$$$$$$$$$$$$$' '$$$$$$$$$$$$$$$$$$$$$$$$$$$$$$'\n",
      " '$$$$$$$$$$$$$$$$$$$$$$$$$$$$$$' '$$$$$$$$$$$$$$$$$$$$$$$$$$$$$$'\n",
      " '$$$$$$$$$$$$$$$$$$$$$$$$$$$$$$' '$$$$$$$$$$$$$$$$$$$$$$$$$$$$$$'\n",
      " '$$$$$$$$$$$$$$$$$$$$$$$$$$$$$$' '$$$$$$$$$$$$$$$$$$$$$$$$$$$$$$'\n",
      " '$$$$$$$$$$$$$$$$$$$$$$$$$$$$$$' '$$$$$$$$$$$$$$$$$$$$$$$$$$$$$$'\n",
      " '$$$$$$$$$$$$$$$$$$$$$$$$$$$$$$' '$$$$$$$$$$$$$$$$$$$$$$$$$$$$$$'\n",
      " '$$$$$$$$$$$$$$$$$$$$$$$$$$$$$$' '$$$$$$$$$$$$$$$$$$$$$$$$$$$$$$'\n",
      " '$$$$$$$$$$$$$$$$$$$$$$$$$$$$$$' '$$$$$$$$$$$$$$$$$$$$$$$$$$$$$$'\n",
      " '$$$$$$$$$$$$$$$$$$$$$$$$$$$$$$' '$$$$$$$$$$$$$$$$$$$$$$$$$$$$$$'\n",
      " '$$$$$$$$$$$$$$$$$$$$$$$$$$$$$$' '$$$$$$$$$$$$$$$$$$$$$$$$$$$$$$'\n",
      " '$$$$$$$$$$$$$$$$$$$$$$$$$$$$$$' '$$$$$$$$$$$$$$$$$$$$$$$$$$$$$$'\n",
      " '$$$$$$$$$$$$$$$$$$$$$$$$$$$$$$' '$$$$$$$$$$$$$$$$$$$$$$$$$$$$$$'\n",
      " '$$$$$$$$$$$$$$$$$$$$$$$$$$$$$$' '$$$$$$$$$$$$$$$$$$$$$$$$$$$$$$'\n",
      " '$$$$$$$$$$$$$$$$$$$$$$$$$$$$$$' '$$$$$$$$$$$$$$$$$$$$$$$$$$$$$$'\n",
      " '$$$$$$$$$$$$$$$$$$$$$$$$$$$$$$' '$$$$$$$$$$$$$$$$$$$$$$$$$$$$$$'\n",
      " '$$$$$$$$$$$$$$$$$$$$$$$$$$$$$$' '$$$$$$$$$$$$$$$$$$$$$$$$$$$$$$'\n",
      " '$$$$$$$$$$$$$$$$$$$$$$$$$$$$$$' '$$$$$$$$$$$$$$$$$$$$$$$$$$$$$$'\n",
      " '$$$$$$$$$$$$$$$$$$$$$$$$$$$$$$' '$$$$$$$$$$$$$$$$$$$$$$$$$$$$$$']\n",
      "\n",
      "Label :\n",
      "[0. 0. 0. 0. 1. 0. 0. 0. 0. 0. 0. 0. 0. 0. 0. 0. 0. 0. 0. 0. 0. 0. 0. 0.\n",
      " 0. 0. 0. 0. 0. 0. 0. 0. 0. 0. 0. 0. 0. 0. 0. 0. 0. 0. 0. 0. 0. 0. 0. 0.\n",
      " 0. 0.]\n",
      "\n",
      "Descriptor :\n",
      "[ 78 111 116 ...  36  36  -1]\n"
     ]
    }
   ],
   "source": [
    "from utils.load_data import load_data\n",
    "from utils.data_descriptor import convert_labels\n",
    "\n",
    "ALPHANUM_ONLY = False\n",
    "WORD_SIZE = 30\n",
    "SENTENCE_SIZE = 50\n",
    "FILL_WITH = \"$\"\n",
    "SPLIT_PUNCTUATION = False # to tell wheter the puncutation \"!?.;,/\" etc are keeped sticked to a word or not\n",
    "\n",
    "X_STRING, X_SCALAR = load_data(DATA, WORD_SIZE, SENTENCE_SIZE, FILL_WITH, SPLIT_PUNCTUATION, ALPHANUM_ONLY)\n",
    "\n",
    "Y = convert_labels(DATA, SENTENCE_SIZE, SPLIT_PUNCTUATION)\n",
    "\n",
    "print(DATA.shape, X_STRING.shape, Y.shape, X_SCALAR.shape)\n",
    "\n",
    "print(\"\\nOriginal data :\")\n",
    "print(DATA[0])\n",
    "print(\"\\nFilled sentence :\")\n",
    "print(X_STRING[0])\n",
    "print(\"\\nLabel :\")\n",
    "print(Y[0])\n",
    "print(\"\\nDescriptor :\")\n",
    "print(X_SCALAR[0])"
   ]
  },
  {
   "cell_type": "code",
   "execution_count": 5,
   "metadata": {},
   "outputs": [],
   "source": [
    "X_ORIGINAL = DATA[:, 1]"
   ]
  },
  {
   "cell_type": "code",
   "execution_count": 6,
   "metadata": {},
   "outputs": [
    {
     "data": {
      "text/plain": [
       "(10, 1501)"
      ]
     },
     "execution_count": 6,
     "metadata": {},
     "output_type": "execute_result"
    }
   ],
   "source": [
    "X_SCALAR.shape"
   ]
  },
  {
   "cell_type": "markdown",
   "metadata": {},
   "source": [
    "# Classification"
   ]
  },
  {
   "cell_type": "code",
   "execution_count": 7,
   "metadata": {},
   "outputs": [],
   "source": [
    "from sklearn.neighbors import KNeighborsRegressor"
   ]
  },
  {
   "cell_type": "code",
   "execution_count": 9,
   "metadata": {},
   "outputs": [
    {
     "data": {
      "text/plain": [
       "KNeighborsRegressor(algorithm='auto', leaf_size=30, metric='minkowski',\n",
       "                    metric_params=None, n_jobs=None, n_neighbors=1, p=2,\n",
       "                    weights='distance')"
      ]
     },
     "execution_count": 9,
     "metadata": {},
     "output_type": "execute_result"
    }
   ],
   "source": [
    "nb_neighbors = 1\n",
    "\n",
    "knn = KNeighborsRegressor(nb_neighbors, weights=\"distance\")\n",
    "knn.fit(X_SCALAR, Y)"
   ]
  },
  {
   "cell_type": "code",
   "execution_count": 10,
   "metadata": {},
   "outputs": [],
   "source": [
    "predictions = knn.predict(X_SCALAR)"
   ]
  },
  {
   "cell_type": "code",
   "execution_count": 11,
   "metadata": {},
   "outputs": [],
   "source": [
    "from utils.post_processing import pred_to_string\n",
    "\n",
    "results = np.zeros(len(predictions), dtype=object)\n",
    "for i in range(len(predictions)):\n",
    "    results[i] = pred_to_string(X_ORIGINAL[i], X_STRING[i], predictions[i])"
   ]
  },
  {
   "cell_type": "code",
   "execution_count": 12,
   "metadata": {
    "scrolled": true
   },
   "outputs": [
    {
     "name": "stdout",
     "output_type": "stream",
     "text": [
      "Not babysitting tonight. I miss that kid.\n",
      "miss\n",
      "miss \n",
      "\n",
      "happy mothers day!  <3\n",
      "happy mothers day!\n",
      "happy mothers day! \n",
      "\n",
      "_d Zwarte maillot\n",
      "_d Zwarte maillot\n",
      "_d Zwarte maillot\n",
      "\n",
      "_Girl OOC sorry we keep missing each other...\n",
      "sorry we keep missing each other...\n",
      "sorry we keep missing each other...\n",
      "\n",
      "my little sister told me i have a double chin  aww\n",
      "my little sister told me i have a double chin  aww\n",
      "my little sister told me i have a double chin aww\n",
      "\n",
      " ha! you`re right...I know you`re right.\n",
      "you`re right.\n",
      "you`re you`re right.\n",
      "\n",
      "I want tuna & salmon sashimi, B.C. rolls and dragon eye.\n",
      "I want tuna & salmon sashimi, B.C. rolls and dragon eye.\n",
      "I want tuna & salmon sashimi, B.C. rolls and dragon eye.\n",
      "\n",
      "J, sorry about the bad night, hopefully my workout updates gave you a little humor in your night..\n",
      "J, sorry about the bad night, hopefully my workout updates gave you a little humor in your night..\n",
      "J, sorry about the bad night, hopefully my workout updates gave you a little humor in your night..\n",
      "\n",
      "i`m watching missing pieces, just coz the theme song is lost without you\n",
      "lost\n",
      "lost \n",
      "\n",
      "whole foods, barton springs, yogurt spot & the oasis = perfect day in austin.\n",
      "perfect\n",
      "perfect \n",
      "\n"
     ]
    }
   ],
   "source": [
    "for i in range(len(results)):\n",
    "    print(DATA[i][1])\n",
    "    print(DATA[i][2])\n",
    "    print(results[i])\n",
    "    print()"
   ]
  },
  {
   "cell_type": "code",
   "execution_count": 13,
   "metadata": {},
   "outputs": [
    {
     "name": "stdout",
     "output_type": "stream",
     "text": [
      "1.0\n"
     ]
    }
   ],
   "source": [
    "from utils.loss import jaccard\n",
    "\n",
    "avg = 0\n",
    "for i in range(len(results)):\n",
    "    avg += jaccard(results[i], DATA[i, 2])\n",
    "    \n",
    "    if jaccard(results[i], DATA[i, 2]) != 1:\n",
    "        print(\"Error on\", i)\n",
    "avg /= len(results)\n",
    "\n",
    "print(avg)"
   ]
  },
  {
   "cell_type": "code",
   "execution_count": 14,
   "metadata": {},
   "outputs": [
    {
     "name": "stdout",
     "output_type": "stream",
     "text": [
      "sorry we keep missing each other...\n",
      "\n",
      "_Girl$$$$$$$$$$$$$$$$$$$$$$$$$\n",
      "0.0\n",
      "\n",
      "OOC$$$$$$$$$$$$$$$$$$$$$$$$$$$\n",
      "0.0\n",
      "\n",
      "sorry$$$$$$$$$$$$$$$$$$$$$$$$$\n",
      "1.0\n",
      "\n",
      "we$$$$$$$$$$$$$$$$$$$$$$$$$$$$\n",
      "1.0\n",
      "\n",
      "keep$$$$$$$$$$$$$$$$$$$$$$$$$$\n",
      "1.0\n",
      "\n",
      "missing$$$$$$$$$$$$$$$$$$$$$$$\n",
      "1.0\n",
      "\n",
      "each$$$$$$$$$$$$$$$$$$$$$$$$$$\n",
      "1.0\n",
      "\n",
      "other...$$$$$$$$$$$$$$$$$$$$$$\n",
      "1.0\n",
      "\n",
      "$$$$$$$$$$$$$$$$$$$$$$$$$$$$$$\n",
      "0.0\n",
      "\n",
      "$$$$$$$$$$$$$$$$$$$$$$$$$$$$$$\n",
      "0.0\n",
      "\n",
      "$$$$$$$$$$$$$$$$$$$$$$$$$$$$$$\n",
      "0.0\n",
      "\n",
      "$$$$$$$$$$$$$$$$$$$$$$$$$$$$$$\n",
      "0.0\n",
      "\n",
      "$$$$$$$$$$$$$$$$$$$$$$$$$$$$$$\n",
      "0.0\n",
      "\n",
      "$$$$$$$$$$$$$$$$$$$$$$$$$$$$$$\n",
      "0.0\n",
      "\n",
      "$$$$$$$$$$$$$$$$$$$$$$$$$$$$$$\n",
      "0.0\n",
      "\n",
      "$$$$$$$$$$$$$$$$$$$$$$$$$$$$$$\n",
      "0.0\n",
      "\n",
      "$$$$$$$$$$$$$$$$$$$$$$$$$$$$$$\n",
      "0.0\n",
      "\n",
      "$$$$$$$$$$$$$$$$$$$$$$$$$$$$$$\n",
      "0.0\n",
      "\n",
      "$$$$$$$$$$$$$$$$$$$$$$$$$$$$$$\n",
      "0.0\n",
      "\n",
      "$$$$$$$$$$$$$$$$$$$$$$$$$$$$$$\n",
      "0.0\n",
      "\n",
      "$$$$$$$$$$$$$$$$$$$$$$$$$$$$$$\n",
      "0.0\n",
      "\n",
      "$$$$$$$$$$$$$$$$$$$$$$$$$$$$$$\n",
      "0.0\n",
      "\n",
      "$$$$$$$$$$$$$$$$$$$$$$$$$$$$$$\n",
      "0.0\n",
      "\n",
      "$$$$$$$$$$$$$$$$$$$$$$$$$$$$$$\n",
      "0.0\n",
      "\n",
      "$$$$$$$$$$$$$$$$$$$$$$$$$$$$$$\n",
      "0.0\n",
      "\n",
      "$$$$$$$$$$$$$$$$$$$$$$$$$$$$$$\n",
      "0.0\n",
      "\n",
      "$$$$$$$$$$$$$$$$$$$$$$$$$$$$$$\n",
      "0.0\n",
      "\n",
      "$$$$$$$$$$$$$$$$$$$$$$$$$$$$$$\n",
      "0.0\n",
      "\n",
      "$$$$$$$$$$$$$$$$$$$$$$$$$$$$$$\n",
      "0.0\n",
      "\n",
      "$$$$$$$$$$$$$$$$$$$$$$$$$$$$$$\n",
      "0.0\n",
      "\n",
      "$$$$$$$$$$$$$$$$$$$$$$$$$$$$$$\n",
      "0.0\n",
      "\n",
      "$$$$$$$$$$$$$$$$$$$$$$$$$$$$$$\n",
      "0.0\n",
      "\n",
      "$$$$$$$$$$$$$$$$$$$$$$$$$$$$$$\n",
      "0.0\n",
      "\n",
      "$$$$$$$$$$$$$$$$$$$$$$$$$$$$$$\n",
      "0.0\n",
      "\n",
      "$$$$$$$$$$$$$$$$$$$$$$$$$$$$$$\n",
      "0.0\n",
      "\n",
      "$$$$$$$$$$$$$$$$$$$$$$$$$$$$$$\n",
      "0.0\n",
      "\n",
      "$$$$$$$$$$$$$$$$$$$$$$$$$$$$$$\n",
      "0.0\n",
      "\n",
      "$$$$$$$$$$$$$$$$$$$$$$$$$$$$$$\n",
      "0.0\n",
      "\n",
      "$$$$$$$$$$$$$$$$$$$$$$$$$$$$$$\n",
      "0.0\n",
      "\n",
      "$$$$$$$$$$$$$$$$$$$$$$$$$$$$$$\n",
      "0.0\n",
      "\n",
      "$$$$$$$$$$$$$$$$$$$$$$$$$$$$$$\n",
      "0.0\n",
      "\n",
      "$$$$$$$$$$$$$$$$$$$$$$$$$$$$$$\n",
      "0.0\n",
      "\n",
      "$$$$$$$$$$$$$$$$$$$$$$$$$$$$$$\n",
      "0.0\n",
      "\n",
      "$$$$$$$$$$$$$$$$$$$$$$$$$$$$$$\n",
      "0.0\n",
      "\n",
      "$$$$$$$$$$$$$$$$$$$$$$$$$$$$$$\n",
      "0.0\n",
      "\n",
      "$$$$$$$$$$$$$$$$$$$$$$$$$$$$$$\n",
      "0.0\n",
      "\n",
      "$$$$$$$$$$$$$$$$$$$$$$$$$$$$$$\n",
      "0.0\n",
      "\n",
      "$$$$$$$$$$$$$$$$$$$$$$$$$$$$$$\n",
      "0.0\n",
      "\n",
      "$$$$$$$$$$$$$$$$$$$$$$$$$$$$$$\n",
      "0.0\n",
      "\n",
      "$$$$$$$$$$$$$$$$$$$$$$$$$$$$$$\n",
      "0.0\n"
     ]
    }
   ],
   "source": [
    "print(DATA[3][2])\n",
    "\n",
    "for i in range(len(X_STRING[3])):\n",
    "    print()\n",
    "    print(X_STRING[3][i])\n",
    "    print(Y[3][i])"
   ]
  },
  {
   "cell_type": "code",
   "execution_count": null,
   "metadata": {},
   "outputs": [],
   "source": []
  },
  {
   "cell_type": "code",
   "execution_count": null,
   "metadata": {},
   "outputs": [],
   "source": []
  }
 ],
 "metadata": {
  "kernelspec": {
   "display_name": "Python 3",
   "language": "python",
   "name": "python3"
  },
  "language_info": {
   "codemirror_mode": {
    "name": "ipython",
    "version": 3
   },
   "file_extension": ".py",
   "mimetype": "text/x-python",
   "name": "python",
   "nbconvert_exporter": "python",
   "pygments_lexer": "ipython3",
   "version": "3.7.7"
  }
 },
 "nbformat": 4,
 "nbformat_minor": 4
}
