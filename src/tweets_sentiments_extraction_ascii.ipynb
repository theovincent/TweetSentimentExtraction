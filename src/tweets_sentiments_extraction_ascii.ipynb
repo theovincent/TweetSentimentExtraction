{
 "cells": [
  {
   "cell_type": "code",
   "execution_count": 1,
   "metadata": {},
   "outputs": [],
   "source": [
    "from pathlib import Path\n",
    "from tqdm import tqdm\n",
    "import numpy as np\n",
    "import pandas as pd\n",
    "import matplotlib.pyplot as plt\n",
    "from nltk.tokenize import WordPunctTokenizer"
   ]
  },
  {
   "cell_type": "markdown",
   "metadata": {},
   "source": [
    "# Data base import"
   ]
  },
  {
   "cell_type": "code",
   "execution_count": 2,
   "metadata": {},
   "outputs": [],
   "source": [
    "train_data = pd.read_csv(Path(\"../data/samples/sample_1000_train.csv\")).to_numpy()\n",
    "validation_data = pd.read_csv(Path(\"../data/samples/sample_100_validation.csv\")).to_numpy()"
   ]
  },
  {
   "cell_type": "code",
   "execution_count": 3,
   "metadata": {},
   "outputs": [
    {
     "name": "stdout",
     "output_type": "stream",
     "text": [
      "(1000, 4) (100, 4)\n"
     ]
    }
   ],
   "source": [
    "print(train_data.shape, validation_data.shape)"
   ]
  },
  {
   "cell_type": "markdown",
   "metadata": {},
   "source": [
    "# Pre-processing"
   ]
  },
  {
   "cell_type": "code",
   "execution_count": 4,
   "metadata": {},
   "outputs": [],
   "source": [
    "from utils.load_data import load_data\n",
    "from utils.data_descriptor import convert_labels\n",
    "\n",
    "ALPHANUM_ONLY = False\n",
    "WORD_SIZE = 30\n",
    "SENTENCE_SIZE = 50\n",
    "FILL_WITH = \"$\"\n",
    "SPLIT_PUNCTUATION = False  # to tell wheter the puncutation \"!?.;,/\" etc are keeped sticked to a word or not\n",
    "FEELING_WEIGHT = 14\n",
    "\n",
    "X_TR_STRING, X_TR_SCALAR = load_data(\n",
    "    train_data, WORD_SIZE, SENTENCE_SIZE, FILL_WITH, SPLIT_PUNCTUATION, ALPHANUM_ONLY, FEELING_WEIGHT\n",
    ")\n",
    "X_TR_ORIGINAL = train_data[:, 1]\n",
    "Y_TR = convert_labels(train_data, SENTENCE_SIZE, SPLIT_PUNCTUATION)\n",
    "\n",
    "X_VAL_STRING, X_VAL_SCALAR = load_data(\n",
    "    validation_data, WORD_SIZE, SENTENCE_SIZE, FILL_WITH, SPLIT_PUNCTUATION, ALPHANUM_ONLY, FEELING_WEIGHT\n",
    ")\n",
    "X_VAL_ORIGINAL = validation_data[:, 1]\n",
    "Y_VAL = convert_labels(validation_data, SENTENCE_SIZE, SPLIT_PUNCTUATION)"
   ]
  },
  {
   "cell_type": "code",
   "execution_count": 5,
   "metadata": {},
   "outputs": [
    {
     "name": "stdout",
     "output_type": "stream",
     "text": [
      "(1000, 4) (1000, 50) (1000, 1501) (1000, 50)\n",
      "\n",
      "Original data :\n",
      "i feel really weird\n",
      "\n",
      "Filled sentence :\n",
      "['i$$$$$$$$$$$$$$$$$$$$$$$$$$$$$' 'feel$$$$$$$$$$$$$$$$$$$$$$$$$$'\n",
      " 'really$$$$$$$$$$$$$$$$$$$$$$$$' 'weird$$$$$$$$$$$$$$$$$$$$$$$$$'\n",
      " '$$$$$$$$$$$$$$$$$$$$$$$$$$$$$$' '$$$$$$$$$$$$$$$$$$$$$$$$$$$$$$'\n",
      " '$$$$$$$$$$$$$$$$$$$$$$$$$$$$$$' '$$$$$$$$$$$$$$$$$$$$$$$$$$$$$$'\n",
      " '$$$$$$$$$$$$$$$$$$$$$$$$$$$$$$' '$$$$$$$$$$$$$$$$$$$$$$$$$$$$$$'\n",
      " '$$$$$$$$$$$$$$$$$$$$$$$$$$$$$$' '$$$$$$$$$$$$$$$$$$$$$$$$$$$$$$'\n",
      " '$$$$$$$$$$$$$$$$$$$$$$$$$$$$$$' '$$$$$$$$$$$$$$$$$$$$$$$$$$$$$$'\n",
      " '$$$$$$$$$$$$$$$$$$$$$$$$$$$$$$' '$$$$$$$$$$$$$$$$$$$$$$$$$$$$$$'\n",
      " '$$$$$$$$$$$$$$$$$$$$$$$$$$$$$$' '$$$$$$$$$$$$$$$$$$$$$$$$$$$$$$'\n",
      " '$$$$$$$$$$$$$$$$$$$$$$$$$$$$$$' '$$$$$$$$$$$$$$$$$$$$$$$$$$$$$$'\n",
      " '$$$$$$$$$$$$$$$$$$$$$$$$$$$$$$' '$$$$$$$$$$$$$$$$$$$$$$$$$$$$$$'\n",
      " '$$$$$$$$$$$$$$$$$$$$$$$$$$$$$$' '$$$$$$$$$$$$$$$$$$$$$$$$$$$$$$'\n",
      " '$$$$$$$$$$$$$$$$$$$$$$$$$$$$$$' '$$$$$$$$$$$$$$$$$$$$$$$$$$$$$$'\n",
      " '$$$$$$$$$$$$$$$$$$$$$$$$$$$$$$' '$$$$$$$$$$$$$$$$$$$$$$$$$$$$$$'\n",
      " '$$$$$$$$$$$$$$$$$$$$$$$$$$$$$$' '$$$$$$$$$$$$$$$$$$$$$$$$$$$$$$'\n",
      " '$$$$$$$$$$$$$$$$$$$$$$$$$$$$$$' '$$$$$$$$$$$$$$$$$$$$$$$$$$$$$$'\n",
      " '$$$$$$$$$$$$$$$$$$$$$$$$$$$$$$' '$$$$$$$$$$$$$$$$$$$$$$$$$$$$$$'\n",
      " '$$$$$$$$$$$$$$$$$$$$$$$$$$$$$$' '$$$$$$$$$$$$$$$$$$$$$$$$$$$$$$'\n",
      " '$$$$$$$$$$$$$$$$$$$$$$$$$$$$$$' '$$$$$$$$$$$$$$$$$$$$$$$$$$$$$$'\n",
      " '$$$$$$$$$$$$$$$$$$$$$$$$$$$$$$' '$$$$$$$$$$$$$$$$$$$$$$$$$$$$$$'\n",
      " '$$$$$$$$$$$$$$$$$$$$$$$$$$$$$$' '$$$$$$$$$$$$$$$$$$$$$$$$$$$$$$'\n",
      " '$$$$$$$$$$$$$$$$$$$$$$$$$$$$$$' '$$$$$$$$$$$$$$$$$$$$$$$$$$$$$$'\n",
      " '$$$$$$$$$$$$$$$$$$$$$$$$$$$$$$' '$$$$$$$$$$$$$$$$$$$$$$$$$$$$$$'\n",
      " '$$$$$$$$$$$$$$$$$$$$$$$$$$$$$$' '$$$$$$$$$$$$$$$$$$$$$$$$$$$$$$'\n",
      " '$$$$$$$$$$$$$$$$$$$$$$$$$$$$$$' '$$$$$$$$$$$$$$$$$$$$$$$$$$$$$$']\n",
      "\n",
      "Label :\n",
      "[0. 0. 0. 1. 0. 0. 0. 0. 0. 0. 0. 0. 0. 0. 0. 0. 0. 0. 0. 0. 0. 0. 0. 0.\n",
      " 0. 0. 0. 0. 0. 0. 0. 0. 0. 0. 0. 0. 0. 0. 0. 0. 0. 0. 0. 0. 0. 0. 0. 0.\n",
      " 0. 0.]\n",
      "\n",
      "Descriptor :\n",
      "[105  36  36 ...  36  36 -14]\n"
     ]
    }
   ],
   "source": [
    "print(train_data.shape, X_TR_STRING.shape, X_TR_SCALAR.shape, Y_TR.shape)\n",
    "\n",
    "print(\"\\nOriginal data :\")\n",
    "print(X_TR_ORIGINAL[0])\n",
    "print(\"\\nFilled sentence :\")\n",
    "print(X_TR_STRING[0])\n",
    "print(\"\\nLabel :\")\n",
    "print(Y_TR[0])\n",
    "print(\"\\nDescriptor :\")\n",
    "print(X_TR_SCALAR[0])"
   ]
  },
  {
   "cell_type": "markdown",
   "metadata": {},
   "source": [
    "### Standardisation"
   ]
  },
  {
   "cell_type": "code",
   "execution_count": 6,
   "metadata": {},
   "outputs": [],
   "source": [
    "mu = np.concatenate([X_TR_SCALAR[:, :-1].mean(axis=0), [0]])\n",
    "sigma = X_TR_SCALAR[:, :-1].std(axis=0)\n",
    "\n",
    "X_TR_SCALAR = X_TR_SCALAR - mu\n",
    "X_VAL_SCALAR = X_VAL_SCALAR - mu\n",
    "\n",
    "for i in range(len(sigma)):\n",
    "    if sigma[i] != 0:\n",
    "        X_TR_SCALAR[:, i] /= sigma[i]\n",
    "        X_VAL_SCALAR[:, i] /= sigma[i]"
   ]
  },
  {
   "cell_type": "markdown",
   "metadata": {},
   "source": [
    "# Classification"
   ]
  },
  {
   "cell_type": "code",
   "execution_count": 7,
   "metadata": {},
   "outputs": [],
   "source": [
    "#!pip install xgboost"
   ]
  },
  {
   "cell_type": "code",
   "execution_count": 8,
   "metadata": {},
   "outputs": [],
   "source": [
    "from sklearn.multioutput import MultiOutputRegressor\n",
    "\n",
    "from sklearn.neighbors import KNeighborsRegressor\n",
    "from sklearn.svm import SVR\n",
    "import xgboost as xgb"
   ]
  },
  {
   "cell_type": "code",
   "execution_count": 9,
   "metadata": {},
   "outputs": [
    {
     "data": {
      "text/plain": [
       "MultiOutputRegressor(estimator=SVR(C=1.0, cache_size=200, coef0=0.0, degree=2,\n",
       "                                   epsilon=0.1, gamma='scale', kernel='poly',\n",
       "                                   max_iter=-1, shrinking=True, tol=0.001,\n",
       "                                   verbose=False),\n",
       "                     n_jobs=None)"
      ]
     },
     "execution_count": 9,
     "metadata": {},
     "output_type": "execute_result"
    }
   ],
   "source": [
    "# nb_neighbors = 26\n",
    "# regressor = KNeighborsRegressor(nb_neighbors, weights=\"distance\")\n",
    "\n",
    "# regressor = MultiOutputRegressor(\n",
    "#     xgb.XGBClassifier(objective=\"reg:logistic\")\n",
    "# )\n",
    "\n",
    "regressor = MultiOutputRegressor(\n",
    "    SVR(kernel=\"poly\", degree=2)\n",
    ")\n",
    "\n",
    "regressor.fit(X_TR_SCALAR, Y_TR)"
   ]
  },
  {
   "cell_type": "code",
   "execution_count": 10,
   "metadata": {},
   "outputs": [],
   "source": [
    "predictions = regressor.predict(X_VAL_SCALAR)"
   ]
  },
  {
   "cell_type": "code",
   "execution_count": 11,
   "metadata": {},
   "outputs": [],
   "source": [
    "from utils.post_processing import preds_to_strings\n",
    "\n",
    "results_val = preds_to_strings(X_VAL_ORIGINAL, X_VAL_STRING, predictions)"
   ]
  },
  {
   "cell_type": "code",
   "execution_count": 12,
   "metadata": {},
   "outputs": [
    {
     "name": "stdout",
     "output_type": "stream",
     "text": [
      "56.9449031353699\n"
     ]
    }
   ],
   "source": [
    "from utils.loss import mean_jaccard\n",
    "\n",
    "accuracy = mean_jaccard(validation_data[:, 2], results_val)\n",
    "print(accuracy)"
   ]
  },
  {
   "cell_type": "code",
   "execution_count": null,
   "metadata": {},
   "outputs": [],
   "source": []
  }
 ],
 "metadata": {
  "kernelspec": {
   "display_name": "Python 3",
   "language": "python",
   "name": "python3"
  },
  "language_info": {
   "codemirror_mode": {
    "name": "ipython",
    "version": 3
   },
   "file_extension": ".py",
   "mimetype": "text/x-python",
   "name": "python",
   "nbconvert_exporter": "python",
   "pygments_lexer": "ipython3",
   "version": "3.7.7"
  }
 },
 "nbformat": 4,
 "nbformat_minor": 4
}
