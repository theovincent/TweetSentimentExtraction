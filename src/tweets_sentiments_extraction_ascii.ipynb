{
 "cells": [
  {
   "cell_type": "code",
   "execution_count": null,
   "metadata": {},
   "outputs": [],
   "source": [
    "from pathlib import Path\n",
    "import numpy as np\n",
    "import pandas as pd\n",
    "import matplotlib.pyplot as plt\n",
    "from nltk.tokenize import WordPunctTokenizer"
   ]
  },
  {
   "cell_type": "markdown",
   "metadata": {},
   "source": [
    "# Data base import"
   ]
  },
  {
   "cell_type": "code",
   "execution_count": null,
   "metadata": {},
   "outputs": [],
   "source": [
    "train_data =  pd.read_csv(Path(\"../data/samples/sample_1000_train.csv\")).to_numpy()\n",
    "validation_data = pd.read_csv(Path(\"../data/samples/sample_100_validation.csv\")).to_numpy()"
   ]
  },
  {
   "cell_type": "code",
   "execution_count": null,
   "metadata": {},
   "outputs": [],
   "source": [
    "print(train_data.shape, validation_data.shape)"
   ]
  },
  {
   "cell_type": "markdown",
   "metadata": {},
   "source": [
    "# Pre-processing"
   ]
  },
  {
   "cell_type": "code",
   "execution_count": null,
   "metadata": {},
   "outputs": [],
   "source": [
    "from utils.load_data import load_data\n",
    "from utils.data_descriptor import convert_labels\n",
    "\n",
    "ALPHANUM_ONLY = False\n",
    "WORD_SIZE = 30\n",
    "SENTENCE_SIZE = 50\n",
    "FILL_WITH = \"$\"\n",
    "SPLIT_PUNCTUATION = False # to tell wheter the puncutation \"!?.;,/\" etc are keeped sticked to a word or not\n",
    "\n",
    "X_TR_STRING, X_TR_SCALAR = load_data(\n",
    "    train_data, WORD_SIZE, SENTENCE_SIZE, FILL_WITH, SPLIT_PUNCTUATION, ALPHANUM_ONLY\n",
    ")\n",
    "X_TR_ORIGINAL = train_data[:, 1]\n",
    "Y_TR = convert_labels(train_data, SENTENCE_SIZE, SPLIT_PUNCTUATION)\n",
    "\n",
    "X_VAL_STRING, X_VAL_SCALAR = load_data(\n",
    "    validation_data, WORD_SIZE, SENTENCE_SIZE, FILL_WITH, SPLIT_PUNCTUATION, ALPHANUM_ONLY\n",
    ")\n",
    "X_VAL_ORIGINAL = validation_data[:, 1]\n",
    "Y_VAL = convert_labels(validation_data, SENTENCE_SIZE, SPLIT_PUNCTUATION)"
   ]
  },
  {
   "cell_type": "code",
   "execution_count": null,
   "metadata": {},
   "outputs": [],
   "source": [
    "print(train_data.shape, X_TR_STRING.shape, X_TR_SCALAR.shape, Y_TR.shape)\n",
    "\n",
    "print(\"\\nOriginal data :\")\n",
    "print(X_TR_ORIGINAL[0])\n",
    "print(\"\\nFilled sentence :\")\n",
    "print(X_TR_STRING[0])\n",
    "print(\"\\nLabel :\")\n",
    "print(Y_TR[0])\n",
    "print(\"\\nDescriptor :\")\n",
    "print(X_TR_SCALAR[0])"
   ]
  },
  {
   "cell_type": "markdown",
   "metadata": {},
   "source": [
    "# Classification"
   ]
  },
  {
   "cell_type": "code",
   "execution_count": null,
   "metadata": {},
   "outputs": [],
   "source": [
    "from sklearn.neighbors import KNeighborsRegressor"
   ]
  },
  {
   "cell_type": "code",
   "execution_count": null,
   "metadata": {},
   "outputs": [],
   "source": [
    "nb_neighbors = 1\n",
    "\n",
    "knn = KNeighborsRegressor(nb_neighbors, weights=\"distance\")\n",
    "knn.fit(X_TR_SCALAR, Y_TR)"
   ]
  },
  {
   "cell_type": "code",
   "execution_count": null,
   "metadata": {},
   "outputs": [],
   "source": [
    "predictions = knn.predict(X_VAL_SCALAR)"
   ]
  },
  {
   "cell_type": "code",
   "execution_count": null,
   "metadata": {},
   "outputs": [],
   "source": [
    "from utils.post_processing import pred_to_string\n",
    "\n",
    "results = np.zeros(len(predictions), dtype=object)\n",
    "for i in range(len(predictions)):\n",
    "    results[i] = pred_to_string(X_TR_ORIGINAL[i], X_TR_STRING[i], predictions[i])"
   ]
  },
  {
   "cell_type": "code",
   "execution_count": null,
   "metadata": {
    "scrolled": true
   },
   "outputs": [],
   "source": [
    "for i in range(len(results)):\n",
    "    print(DATA[i][1])\n",
    "    print(DATA[i][2])\n",
    "    print(results[i])\n",
    "    print()"
   ]
  },
  {
   "cell_type": "code",
   "execution_count": null,
   "metadata": {},
   "outputs": [],
   "source": [
    "from utils.loss import jaccard\n",
    "\n",
    "avg = 0\n",
    "for i in range(len(results)):\n",
    "    avg += jaccard(results[i], DATA[i, 2])\n",
    "    \n",
    "    if jaccard(results[i], DATA[i, 2]) != 1:\n",
    "        print(\"Error on\", i)\n",
    "avg /= len(results)\n",
    "\n",
    "print(avg)"
   ]
  },
  {
   "cell_type": "code",
   "execution_count": null,
   "metadata": {},
   "outputs": [],
   "source": []
  }
 ],
 "metadata": {
  "kernelspec": {
   "display_name": "Python 3",
   "language": "python",
   "name": "python3"
  },
  "language_info": {
   "codemirror_mode": {
    "name": "ipython",
    "version": 3
   },
   "file_extension": ".py",
   "mimetype": "text/x-python",
   "name": "python",
   "nbconvert_exporter": "python",
   "pygments_lexer": "ipython3",
   "version": "3.7.7"
  }
 },
 "nbformat": 4,
 "nbformat_minor": 4
}
