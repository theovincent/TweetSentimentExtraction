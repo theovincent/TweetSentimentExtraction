{
 "cells": [
  {
   "cell_type": "code",
   "execution_count": null,
   "metadata": {},
   "outputs": [],
   "source": [
    "from pathlib import Path\n",
    "from tqdm import tqdm\n",
    "import numpy as np\n",
    "import pandas as pd\n",
    "import matplotlib.pyplot as plt\n",
    "from nltk.tokenize import WordPunctTokenizer"
   ]
  },
  {
   "cell_type": "markdown",
   "metadata": {},
   "source": [
    "# Data base import"
   ]
  },
  {
   "cell_type": "code",
   "execution_count": null,
   "metadata": {},
   "outputs": [],
   "source": [
    "from utils.split_feelings import split\n",
    "\n",
    "PATH_TRAIN = Path(\"../data/samples/sample_1000_train.csv\")\n",
    "PATH_VALID = Path(\"../data/samples/sample_1000_validation.csv\")\n",
    "\n",
    "SPLIT_FEELINGS = True\n",
    "\n",
    "if SPLIT_FEELINGS:\n",
    "    POSITIVES_WITH_NEGATIVES = False\n",
    "\n",
    "    train_pos, train_neutral, train_neg = split(PATH_TRAIN, POSITIVES_WITH_NEGATIVES)\n",
    "    valid_pos, valid_neutral, valid_neg = split(PATH_VALID, POSITIVES_WITH_NEGATIVES)\n",
    "    \n",
    "    train_data = train_pos\n",
    "    validation_data = valid_pos\n",
    "\n",
    "else:\n",
    "    train_data = pd.read_csv(PATH_TRAIN).to_numpy()\n",
    "    validation_data = pd.read_csv(PATH_VALID).to_numpy()"
   ]
  },
  {
   "cell_type": "code",
   "execution_count": null,
   "metadata": {},
   "outputs": [],
   "source": [
    "print(train_data.shape, validation_data.shape)"
   ]
  },
  {
   "cell_type": "code",
   "execution_count": null,
   "metadata": {},
   "outputs": [],
   "source": [
    "from utils.clean_data import clean_data \n",
    "\n",
    "train_data = clean_data(train_data)\n",
    "validation_data = clean_data(validation_data)"
   ]
  },
  {
   "cell_type": "code",
   "execution_count": null,
   "metadata": {},
   "outputs": [],
   "source": [
    "print(train_data.shape, validation_data.shape)"
   ]
  },
  {
   "cell_type": "markdown",
   "metadata": {},
   "source": [
    "# Pre-processing"
   ]
  },
  {
   "cell_type": "code",
   "execution_count": null,
   "metadata": {},
   "outputs": [],
   "source": [
    "# -- Get the original tweets -- #\n",
    "\n",
    "X_TR_ORIGINAL = train_data[:, 1]\n",
    "X_VAL_ORIGINAL = validation_data[:, 1]\n",
    "\n",
    "Y_TR_ORIGINAL = train_data[:, 2]\n",
    "Y_VAL_ORIGINAL = validation_data[:, 2]\n",
    "\n",
    "FEELINGS_TR = train_data[:, 3]\n",
    "FEELINGS_VAL = validation_data[:, 3]"
   ]
  },
  {
   "cell_type": "code",
   "execution_count": null,
   "metadata": {},
   "outputs": [],
   "source": [
    "from descriptors.tokenizer.tokenizer import Tokenizer\n",
    "from descriptors.tweet_string.create_strings import create_strings\n",
    "\n",
    "WORD_SIZE = 100\n",
    "SENTENCE_SIZE = 100\n",
    "FILL_WITH = \"$\"\n",
    "FEELING_WEIGHT = 1\n",
    "\n",
    "# -- Define the tokenizer -- #\n",
    "TOKENIZER = Tokenizer()\n",
    "\n",
    "# -- Create sentences -- #\n",
    "X_TR_STRING = create_strings(X_TR_ORIGINAL, TOKENIZER, SENTENCE_SIZE)\n",
    "X_VAL_STRING = create_strings(X_VAL_ORIGINAL, TOKENIZER, SENTENCE_SIZE)\n",
    "\n",
    "Y_TR_STRING = create_strings(Y_TR_ORIGINAL, TOKENIZER, SENTENCE_SIZE)\n",
    "Y_VAL_STRING = create_strings(Y_VAL_ORIGINAL, TOKENIZER, SENTENCE_SIZE)\n",
    "\n",
    "\n",
    "test = \"Thats it, its the end. Tears for Fears vs Eric Prydz, DJ Hero   http://bit.ly/2Hpbg4\"\n",
    "test = \"OMG  I BROKE DOWN AND HAD PIZZA BECAUSE I WAS STRESSED OUT     you mad at me?\"\n",
    "print('input tweet : \\n\"' + test + '\"')\n",
    "print('\\ntokenized tweet : ')\n",
    "print(TOKENIZER.tokenize(test, SENTENCE_SIZE))"
   ]
  },
  {
   "cell_type": "code",
   "execution_count": null,
   "metadata": {},
   "outputs": [],
   "source": [
    "from descriptors.descriptor_ascii.load_data import load_data\n",
    "from descriptors.descriptor_one_hot.descriptor import descriptor_one_hot\n",
    "from descriptors.tweet_label.create_labels import create_labels\n",
    "\n",
    "# ALPHANUM_ONLY = False\n",
    "\n",
    "# to tell wheter the puncutation \"!?.;,/\" etc are keeped sticked to a word or not\n",
    "# SPLIT_PUNCTUATION = False \n",
    "\n",
    "\n",
    "ONE_HOT = False\n",
    "\n",
    "# training set --------------------------------------------\n",
    "if ONE_HOT:\n",
    "    X_TR_SCALAR = descriptor_one_hot(\n",
    "        X_TR_STRING, SENTENCE_SIZE, WORD_SIZE,\n",
    "        feelings=FEELINGS_TR, feeling_weight=FEELING_WEIGHT, fill_with_ones=True)\n",
    "    \n",
    "else:\n",
    "    X_TR_STRING_FILLED, X_TR_SCALAR = load_data(\n",
    "        X_TR_STRING, WORD_SIZE, SENTENCE_SIZE, FILL_WITH, FEELING_WEIGHT, feelings=FEELINGS_TR)\n",
    "\n",
    "# X_TR_SCALAR = descriptor_one_hot(\n",
    "#     X_TR_STRING, SENTENCE_SIZE, WORD_SIZE,\n",
    "#     feelings=FEELINGS_TR, feeling_weight=FEELING_WEIGHT, fill_with_ones=True\n",
    "# )\n",
    "\n",
    "Y_TR = create_labels(X_TR_STRING, Y_TR_STRING, SENTENCE_SIZE)\n",
    "\n",
    "\n",
    "# validation set ------------------------------------------\n",
    "if ONE_HOT:\n",
    "    X_VAL_SCALAR = descriptor_one_hot(\n",
    "        X_VAL_STRING, SENTENCE_SIZE, WORD_SIZE,\n",
    "        feelings=FEELINGS_VAL, feeling_weight=FEELING_WEIGHT, fill_with_ones=True)\n",
    "    \n",
    "else:\n",
    "    X_VAL_STRING_FILLED, X_VAL_SCALAR = load_data(\n",
    "        X_VAL_STRING, WORD_SIZE, SENTENCE_SIZE, FILL_WITH, FEELING_WEIGHT, feelings=FEELINGS_VAL)\n",
    "\n",
    "# X_VAL_SCALAR = descriptor_one_hot(\n",
    "#     X_VAL_STRING, SENTENCE_SIZE, WORD_SIZE,\n",
    "#     feelings=FEELINGS_VAL, feeling_weight=FEELING_WEIGHT, fill_with_ones=True\n",
    "# )\n",
    "\n",
    "Y_VAL = create_labels(X_VAL_STRING, Y_VAL_STRING, SENTENCE_SIZE)"
   ]
  },
  {
   "cell_type": "code",
   "execution_count": null,
   "metadata": {},
   "outputs": [],
   "source": [
    "IDX = 4\n",
    "print(\"Original data :\")\n",
    "print(X_TR_ORIGINAL[IDX])\n",
    "print(\"\\nFilled sentence :\")\n",
    "print(X_TR_STRING_FILLED[IDX])\n",
    "# print(\"\\nLabel :\")\n",
    "# print(Y_TR[IDX])\n",
    "# print(Y_TR_ORIGINAL[IDX])\n",
    "# print(Y_TR_STRING[IDX])\n",
    "print(\"\\nDescriptor :\")\n",
    "# X_TR_SCALAR = (X_TR_SCALAR != 36) * X_TR_SCALAR\n",
    "print(X_TR_SCALAR[IDX])"
   ]
  },
  {
   "cell_type": "markdown",
   "metadata": {},
   "source": [
    "### Standardisation"
   ]
  },
  {
   "cell_type": "code",
   "execution_count": null,
   "metadata": {},
   "outputs": [],
   "source": [
    "mu = np.concatenate([X_TR_SCALAR[:, :-1].mean(axis=0), [0]])\n",
    "sigma = X_TR_SCALAR[:, :-1].std(axis=0)\n",
    "\n",
    "X_TR_SCALAR = X_TR_SCALAR - mu\n",
    "X_VAL_SCALAR = X_VAL_SCALAR - mu\n",
    "\n",
    "for i in range(len(sigma)):\n",
    "    if sigma[i] != 0:\n",
    "        X_TR_SCALAR[:, i] /= sigma[i]\n",
    "        X_VAL_SCALAR[:, i] /= sigma[i]"
   ]
  },
  {
   "cell_type": "markdown",
   "metadata": {},
   "source": [
    "# Classification"
   ]
  },
  {
   "cell_type": "code",
   "execution_count": null,
   "metadata": {},
   "outputs": [],
   "source": [
    "#!pip install xgboost"
   ]
  },
  {
   "cell_type": "code",
   "execution_count": null,
   "metadata": {},
   "outputs": [],
   "source": [
    "from sklearn.multioutput import MultiOutputRegressor\n",
    "\n",
    "from sklearn.neighbors import KNeighborsRegressor\n",
    "from sklearn.svm import SVR\n",
    "import xgboost as xgb"
   ]
  },
  {
   "cell_type": "code",
   "execution_count": null,
   "metadata": {},
   "outputs": [],
   "source": [
    "nb_neighbors = 20\n",
    "# regressor = KNeighborsRegressor(nb_neighbors, weights=\"distance\", metric=\"jaccard\")\n",
    "regressor = KNeighborsRegressor(nb_neighbors, weights=\"distance\")\n",
    "\n",
    "# regressor = MultiOutputRegressor(\n",
    "#     xgb.XGBRegressor(\n",
    "#         objective=\"reg:squaredlogerror\",\n",
    "#         learning_rate=0.3, gamma=0, max_depth=1000, reg_lambda=1, tree_method=\"hist\"\n",
    "#     )\n",
    "# )\n",
    "\n",
    "# regressor = MultiOutputRegressor(\n",
    "#    SVR(kernel=\"poly\", degree=2)\n",
    "# )\n",
    "\n",
    "regressor.fit(X_TR_SCALAR, Y_TR)"
   ]
  },
  {
   "cell_type": "code",
   "execution_count": null,
   "metadata": {},
   "outputs": [],
   "source": [
    "predictions_val = regressor.predict(X_VAL_SCALAR)\n",
    "predictions_tr = regressor.predict(X_TR_SCALAR)\n",
    "print(predictions_val[1])"
   ]
  },
  {
   "cell_type": "code",
   "execution_count": null,
   "metadata": {},
   "outputs": [],
   "source": [
    "from utils.post_processing import preds_to_strings\n",
    "\n",
    "proba_seil = 0.5\n",
    "\n",
    "results_val = preds_to_strings(X_VAL_ORIGINAL, X_VAL_STRING, predictions_val > proba_seil)\n",
    "results_tr = preds_to_strings(X_TR_ORIGINAL, X_TR_STRING, predictions_tr > proba_seil)"
   ]
  },
  {
   "cell_type": "markdown",
   "metadata": {},
   "source": [
    "# Accuracy and comparisons"
   ]
  },
  {
   "cell_type": "code",
   "execution_count": null,
   "metadata": {},
   "outputs": [],
   "source": [
    "from utils.loss import mean_jaccard"
   ]
  },
  {
   "cell_type": "markdown",
   "metadata": {},
   "source": [
    "### Average jaccard of predictions\n",
    "Similarity between prediction and ground truth"
   ]
  },
  {
   "cell_type": "code",
   "execution_count": null,
   "metadata": {},
   "outputs": [],
   "source": [
    "# On train\n",
    "\n",
    "mean_jaccard(train_data[:, 2], results_tr)"
   ]
  },
  {
   "cell_type": "code",
   "execution_count": null,
   "metadata": {},
   "outputs": [],
   "source": [
    "# On validation\n",
    "\n",
    "mean_jaccard(validation_data[:, 2], results_val)"
   ]
  },
  {
   "cell_type": "markdown",
   "metadata": {},
   "source": [
    "Similarity between actual prediction and trivial prediction (full tweet)"
   ]
  },
  {
   "cell_type": "code",
   "execution_count": null,
   "metadata": {},
   "outputs": [],
   "source": [
    "# On train\n",
    "\n",
    "mean_jaccard(train_data[:, 1], results_tr)"
   ]
  },
  {
   "cell_type": "code",
   "execution_count": null,
   "metadata": {},
   "outputs": [],
   "source": [
    "# On val\n",
    "\n",
    "mean_jaccard(validation_data[:, 1], results_val)"
   ]
  },
  {
   "cell_type": "markdown",
   "metadata": {},
   "source": [
    "### Average jaccard of full tweets\n",
    "Similarity between trivial prediction and ground truth"
   ]
  },
  {
   "cell_type": "code",
   "execution_count": null,
   "metadata": {},
   "outputs": [],
   "source": [
    "# On validation\n",
    "\n",
    "mean_jaccard(validation_data[:, 2], validation_data[:, 1])"
   ]
  },
  {
   "cell_type": "markdown",
   "metadata": {},
   "source": [
    "### Average jaccard of labels\n",
    "Similarity between constructed labels and ground truth\n",
    "$\\neq 100\\%$ because of word and sentence cropping, and database flaws"
   ]
  },
  {
   "cell_type": "code",
   "execution_count": null,
   "metadata": {},
   "outputs": [],
   "source": [
    "# print(np.where(Y_TR[:, 0] == 0))\n",
    "# print(np.where(Y_VAL[:, 0] == 0))"
   ]
  },
  {
   "cell_type": "code",
   "execution_count": null,
   "metadata": {},
   "outputs": [],
   "source": [
    "from utils.loss import mean_jaccard\n",
    "\n",
    "accuracy = mean_jaccard(Y_VAL_ORIGINAL, results_val)\n",
    "print(accuracy)"
   ]
  },
  {
   "cell_type": "code",
   "execution_count": null,
   "metadata": {},
   "outputs": [],
   "source": [
    "for i in range(len(predictions_val)):\n",
    "    print(\"Tweet:\", i)\n",
    "    print()\n",
    "    print(\"Ground truth\", Y_VAL[i])\n",
    "    print(\"Predictions\", (predictions_val[i] > proba_seil).astype(float))\n",
    "    print()\n",
    "    print(\"Original Tweet:\", X_VAL_ORIGINAL[i])\n",
    "    print(\"Cut tweet\", X_VAL_STRING[i])\n",
    "    print()\n",
    "    print(\"Meaningfull part:\", validation_data[i, 2])\n",
    "    print(\"Result:\", results_val[i])\n",
    "    print(\"\\n\")"
   ]
  },
  {
   "cell_type": "code",
   "execution_count": null,
   "metadata": {},
   "outputs": [],
   "source": [
    "def test_knn(neighbors, threshold):\n",
    "    regressor = KNeighborsRegressor(neighbors, weights=\"distance\")\n",
    "    regressor.fit(X_TR_SCALAR, Y_TR)\n",
    "    predictions = regressor.predict(X_VAL_SCALAR)\n",
    "    predictions_bin = (predictions > threshold)*1\n",
    "    results_val = preds_to_strings(X_VAL_ORIGINAL, X_VAL_STRING, predictions_bin)\n",
    "    accuracy = mean_jaccard(Y_VAL_ORIGINAL, results_val)\n",
    "\n",
    "    return accuracy"
   ]
  },
  {
   "cell_type": "code",
   "execution_count": null,
   "metadata": {},
   "outputs": [],
   "source": [
    "y = []\n",
    "for i in range(9):\n",
    "    regressor = KNeighborsRegressor(300, weights=\"distance\")\n",
    "    regressor.fit(X_TR_SCALAR, Y_TR)\n",
    "    predictions = regressor.predict(X_VAL_SCALAR)\n",
    "    predictions_bin = (predictions > i/200)*1\n",
    "    results_val = preds_to_strings(X_VAL_ORIGINAL, X_VAL_STRING, predictions_bin)\n",
    "    accuracy = mean_jaccard(Y_VAL_ORIGINAL, results_val)\n",
    "    y.append(accuracy)\n",
    "plt.plot(y)\n",
    "plt.show()"
   ]
  },
  {
   "cell_type": "code",
   "execution_count": null,
   "metadata": {},
   "outputs": [],
   "source": [
    "NB_NEIGHBORS_MAX = 82\n",
    "NB_NEIGHBORS_MIN = 2\n",
    "STEP_NEIGH = 10\n",
    "\n",
    "THRESHOLD_MAX = 15\n",
    "THRESHOLD_MIN = 0\n",
    "STEP_THRES = 5\n",
    "\n",
    "jaccard_accu = np.zeros((THRESHOLD_MAX // STEP_THRES, (NB_NEIGHBORS_MAX - NB_NEIGHBORS_MIN)//STEP_NEIGH))\n",
    "\n",
    "for nb_neigh in range(NB_NEIGHBORS_MIN, NB_NEIGHBORS_MAX, STEP_NEIGH):\n",
    "    for threshold in range(THRESHOLD_MIN, THRESHOLD_MAX, STEP_THRES):\n",
    "        jaccard_accu[threshold // STEP_THRES, (nb_neigh - NB_NEIGHBORS_MIN) // STEP_NEIGH] = test_knn(nb_neigh, threshold / 100)"
   ]
  },
  {
   "cell_type": "code",
   "execution_count": null,
   "metadata": {},
   "outputs": [],
   "source": [
    "from mpl_toolkits.mplot3d import Axes3D\n",
    "from matplotlib.pyplot import cm\n",
    "from pathlib import Path\n",
    "\n",
    "PATH_SAVE = Path(\"../results\")\n",
    "\n",
    "# Create the grid and the axes\n",
    "fig = plt.figure(figsize=(14,10))\n",
    "LIST_NEIGHBORS = np.arange(NB_NEIGHBORS_MIN, NB_NEIGHBORS_MAX, STEP_NEIGH)\n",
    "LIST_THRES = np.arange(THRESHOLD_MIN, THRESHOLD_MAX, STEP_THRES) / 100\n",
    "(NEIGHBORS, THRES) = np.meshgrid(LIST_NEIGHBORS, LIST_THRES)\n",
    "ax = Axes3D(fig)\n",
    "\n",
    "# Show the plots\n",
    "surf = ax.plot_surface(NEIGHBORS, THRES, jaccard_accu, cmap=cm.coolwarm)\n",
    "ax.set_xlabel('nb neighbors')\n",
    "ax.set_ylabel('threshold')\n",
    "ax.set_zlabel('Jaccard Score')\n",
    "fig.colorbar(surf, shrink=0.5, aspect=5)\n",
    "\n",
    "x = np.argmax(jaccard_accu)\n",
    "i = x // len(LIST_NEIGHBORS)\n",
    "j = x % len(LIST_NEIGHBORS)\n",
    "print(\"Le maximum est atteint en\", (LIST_THRES[i], LIST_NEIGHBORS[j]))\n",
    "print(\"Pour un score de\", jaccard_accu[i, j])\n",
    "\n",
    "plt.savefig(PATH_SAVE / (\"ascii_t\" + str(LIST_THRES[i]) + \"_n\" + str(LIST_NEIGHBORS[j]) + \"_positives.jpg\"))\n",
    "plt.show()"
   ]
  },
  {
   "cell_type": "code",
   "execution_count": null,
   "metadata": {},
   "outputs": [],
   "source": [
    "jaccard_accu.shape"
   ]
  },
  {
   "cell_type": "code",
   "execution_count": null,
   "metadata": {},
   "outputs": [],
   "source": [
    "mean_jaccard(Y_VAL_ORIGINAL, preds_to_strings(X_VAL_ORIGINAL, X_VAL_STRING, Y_VAL))"
   ]
  },
  {
   "cell_type": "code",
   "execution_count": null,
   "metadata": {},
   "outputs": [],
   "source": [
    "mean_jaccard(Y_VAL_ORIGINAL, X_VAL_ORIGINAL)"
   ]
  },
  {
   "cell_type": "code",
   "execution_count": null,
   "metadata": {},
   "outputs": [],
   "source": []
  }
 ],
 "metadata": {
  "kernelspec": {
   "display_name": "Python 3",
   "language": "python",
   "name": "python3"
  },
  "language_info": {
   "codemirror_mode": {
    "name": "ipython",
    "version": 3
   },
   "file_extension": ".py",
   "mimetype": "text/x-python",
   "name": "python",
   "nbconvert_exporter": "python",
   "pygments_lexer": "ipython3",
   "version": "3.7.7"
  }
 },
 "nbformat": 4,
 "nbformat_minor": 4
}
